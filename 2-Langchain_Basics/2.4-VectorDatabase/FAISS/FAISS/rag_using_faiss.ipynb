{
 "cells": [
  {
   "cell_type": "code",
   "execution_count": 68,
   "id": "f7a7aab9",
   "metadata": {},
   "outputs": [],
   "source": [
    "import faiss\n",
    "from langchain_community.vectorstores import FAISS\n",
    "from langchain_community.docstore.in_memory import InMemoryDocstore\n",
    "from langchain_huggingface import HuggingFaceEmbeddings\n",
    "from langchain_core.output_parsers import StrOutputParser\n",
    "from langchain_core.runnables import RunnablePassthrough\n",
    "from langchain.chat_models import ChatOpenAI\n",
    "from langchain_text_splitters import RecursiveCharacterTextSplitter\n",
    "from langchain_community.document_loaders import PyPDFLoader\n",
    "import os\n",
    "from langchain.prompts import PromptTemplate"
   ]
  },
  {
   "cell_type": "code",
   "execution_count": 12,
   "id": "cbcd0c47",
   "metadata": {},
   "outputs": [],
   "source": [
    "os.environ['HF_TOKEN']=os.getenv(\"HF_TOKEN\")\n",
    "os.environ['OPENAI_API_KEY']=os.getenv(\"OPENAI_API_KEY\", \"\")"
   ]
  },
  {
   "cell_type": "code",
   "execution_count": 13,
   "id": "744e592b",
   "metadata": {},
   "outputs": [],
   "source": [
    "llm = ChatOpenAI(temperature=0)\n"
   ]
  },
  {
   "cell_type": "code",
   "execution_count": 14,
   "id": "55b3e2fb",
   "metadata": {},
   "outputs": [
    {
     "name": "stderr",
     "output_type": "stream",
     "text": [
      "d:\\PROJECT_PRACTISE_DIRS\\AGENTICAI\\py_ve_3.11.4\\Lib\\site-packages\\tqdm\\auto.py:21: TqdmWarning: IProgress not found. Please update jupyter and ipywidgets. See https://ipywidgets.readthedocs.io/en/stable/user_install.html\n",
      "  from .autonotebook import tqdm as notebook_tqdm\n"
     ]
    }
   ],
   "source": [
    "embeddings=HuggingFaceEmbeddings(model_name=\"all-MiniLM-L6-v2\")"
   ]
  },
  {
   "cell_type": "code",
   "execution_count": 15,
   "id": "464605fa",
   "metadata": {},
   "outputs": [
    {
     "data": {
      "text/plain": [
       "34"
      ]
     },
     "execution_count": 15,
     "metadata": {},
     "output_type": "execute_result"
    }
   ],
   "source": [
    "FILE_PATH=r\"D:\\PROJECT_PRACTISE_DIRS\\AGENTICAI\\2-Langchain_Basics\\2.2-DataTransformer\\syllabus.pdf\"\n",
    "loader=PyPDFLoader(FILE_PATH)\n",
    "len(loader.load())"
   ]
  },
  {
   "cell_type": "code",
   "execution_count": 16,
   "id": "4a90bdd8",
   "metadata": {},
   "outputs": [],
   "source": [
    "pages = []\n",
    "async for page in loader.alazy_load():\n",
    "    pages.append(page)"
   ]
  },
  {
   "cell_type": "code",
   "execution_count": 17,
   "id": "aa144b57",
   "metadata": {},
   "outputs": [],
   "source": [
    "splitter = RecursiveCharacterTextSplitter(\n",
    "    chunk_size=200,#hyperparameter\n",
    "    chunk_overlap=50 #hyperparemeter\n",
    ")"
   ]
  },
  {
   "cell_type": "code",
   "execution_count": 18,
   "id": "55b2bd8b",
   "metadata": {},
   "outputs": [],
   "source": [
    "documents = splitter.split_documents(pages)"
   ]
  },
  {
   "cell_type": "code",
   "execution_count": 19,
   "id": "34ab8473",
   "metadata": {},
   "outputs": [],
   "source": [
    "index=faiss.IndexFlatIP(384)\n",
    "vector_store=FAISS(\n",
    "    embedding_function=embeddings,\n",
    "    index=index,\n",
    "    docstore=InMemoryDocstore(),\n",
    "    index_to_docstore_id={},\n",
    ")"
   ]
  },
  {
   "cell_type": "code",
   "execution_count": 20,
   "id": "30c68930",
   "metadata": {},
   "outputs": [
    {
     "data": {
      "text/plain": [
       "['541d32ee-dd79-4207-bdb7-ae84b912f41f',\n",
       " 'a4ebe207-33c7-412c-b151-a7b05029115f',\n",
       " '82788d07-e695-4372-bb67-f7fd35a1bec8',\n",
       " '3ee9ce23-b909-4091-89bb-2fb3497102f8',\n",
       " '9e8dc4af-56dd-43bb-ac8a-44f5d22f30e4',\n",
       " '2f97ce4f-dde9-4443-8f51-ce6c3a354d35',\n",
       " '4a35ceb2-92e2-4cdb-81fe-7a045a685dd2',\n",
       " '66896476-7bb2-4973-9642-0c204be630cd',\n",
       " '1320e58a-ef44-47ff-869a-09e7ee662ead',\n",
       " '59ecccff-af91-4d73-9f66-e50095695de5',\n",
       " '9ae07d1d-b778-4004-90f6-7aaf264156d3',\n",
       " '35e01210-1587-4df0-81a4-64c8cb575d91',\n",
       " '4de8c1ae-7e26-44cc-9999-b13f559a5690',\n",
       " '6517e7bf-a535-465b-9d70-202631d3b379',\n",
       " 'c9d31cb7-00f1-4103-9b56-ca653524421a',\n",
       " 'fba173cf-0a33-4e67-9b38-395e65aa2305',\n",
       " '8ab5b55c-6f7f-4d80-aca1-f55047ebee25',\n",
       " 'df7b81bf-91b2-4327-8fd5-c884d5cee8ce',\n",
       " 'dc1376bf-b599-4062-b6bf-fe271c34a7ff',\n",
       " 'd514beda-2ded-4efc-9088-c998ae0fc9cc',\n",
       " '2791d985-1069-4657-aabd-877bd8382358',\n",
       " '20c86732-b0f2-4d07-89bc-aaa1faa6c668',\n",
       " 'adc8c244-c1dd-4241-923c-ab0ee2793a58',\n",
       " '83b552e7-5734-46df-8e74-7cacde66bd2f',\n",
       " '7b1e59b9-dd31-4808-b926-fd02580c8cc5',\n",
       " '636feb5b-0fb5-41d6-acb4-ddc1d67139be',\n",
       " '755a6085-206c-47ff-b931-86df3f806b3b',\n",
       " '23cca47a-92b9-4c29-bc2b-66d51d4345de',\n",
       " '0322e823-7a92-4163-bd98-e1770995a821',\n",
       " '4d784f7d-a867-4c01-924a-56b6157fa056',\n",
       " 'b972486a-9fb7-4257-ba71-e49f29e587c8',\n",
       " '9f2dcd7d-a670-4436-9bee-c12636d28267',\n",
       " '87797364-b272-40a7-acb1-b9a8d50cbb73',\n",
       " 'f8d1a03c-0f34-4cf9-9aef-7c5b101d75e7',\n",
       " 'f60b0a3b-acf5-40c0-a513-e3eb11e256fa',\n",
       " 'd226dbd3-dca9-4219-8d4a-f99baff90d47',\n",
       " '05aa80ae-93da-418d-be50-35886e6f0186',\n",
       " '9b7d0bb0-94cb-46e4-a46f-f203e37b44a9',\n",
       " '8f75d02b-c0be-4a91-a539-bb16e6073ce8',\n",
       " '56e74e9f-8d14-4818-b69e-320fa848c2ef',\n",
       " 'af5a0a8a-acd4-440e-b752-5b1db5d6568a',\n",
       " '34692a82-73b5-4fdd-a2b3-241853c6469f',\n",
       " '0671d912-0b4f-4f71-b31f-e2e40abef7f4',\n",
       " 'a2c18c4f-b404-4b42-ab93-7719072a9a86',\n",
       " 'cad6f629-d9b6-4045-83f7-1180f278dbda',\n",
       " '5a6c6f07-14dc-402a-93ac-8738a82066d8',\n",
       " 'f783cae9-6942-40d8-a9b8-d504d08228ec',\n",
       " '3322a77d-e034-4f77-b816-0d9ab5c46810',\n",
       " '6186c433-5689-4299-9f5f-357a61017021',\n",
       " '28f2cb19-6c9b-4166-8565-b0685cb799f2',\n",
       " '60d8aac4-0f39-4845-80e5-239d29ecada0',\n",
       " 'c8f6e65a-a5fe-41df-ab34-50b6dfb7075c',\n",
       " '73e11eab-d139-46e1-8953-6c0d9384b945',\n",
       " '3d914913-0166-4d4d-a6a4-8ef8f65c40ba',\n",
       " 'bcc1619c-3266-4115-987b-8515e7f15777',\n",
       " '59a47552-810a-4c34-8d81-7e70a9c55faa',\n",
       " 'dbbdf458-c850-4131-b92b-ed0c2a081ba9',\n",
       " '2882aaa4-5c53-4a1a-927c-b59a8fd2aa0d',\n",
       " 'fac5045e-1cb5-4842-bc71-7c0003ff26d9',\n",
       " '8bb57dcc-548d-4a19-84c8-657934fb0841',\n",
       " '489cf4d6-ed7d-42cd-a86c-0eb68eb6fd2a',\n",
       " '7ff850dd-fdc8-413d-adb9-1bb769662fe5',\n",
       " 'b1b3176a-81fe-46be-8d0d-4437338a8fc8',\n",
       " '42efea9c-7370-4173-9ee5-a9bb56f1ffb2',\n",
       " '0d050f13-4f48-41e5-b50b-dc92dc2a3483',\n",
       " '2d8a58b7-f56b-4c84-9161-5969d166365a',\n",
       " '66162c9f-6008-488f-80d0-6500c1bb4680',\n",
       " '590f7e7f-5145-4676-8b22-16438817cfd7',\n",
       " 'af5aea6c-e694-4979-b835-dffa1066cbf8',\n",
       " '0d85ccb8-97aa-4836-8443-6ecf30e0c2d2',\n",
       " '963aafc2-5591-4198-9ded-271779346be6',\n",
       " '4d1cc31b-76f2-4a17-a7f2-e4f2bb7e966b',\n",
       " '0a935a5e-f853-4436-a373-1129b9ed559f',\n",
       " '15d803e8-4f9b-46df-bcc0-54b135426c4a',\n",
       " '7b5b9cd3-5384-41a3-a23a-556aa4884900',\n",
       " '93847c86-9b0a-4a9d-970a-a30cd7990637',\n",
       " '37397272-6e9a-4c4a-b5ae-4460900300b3',\n",
       " '3661fe41-b4df-4beb-9164-cd81e30a83f4',\n",
       " 'a490a38e-95a5-4679-be44-8224a967bde4',\n",
       " '44fbe0d4-2e78-4d25-a09d-3b7d6b9889b9',\n",
       " 'f9ac0bb6-a3cf-4d8b-ad15-711435649652',\n",
       " 'f0780e00-63b7-4040-a929-866e6b153475',\n",
       " '5a08ab3e-bc01-4805-897e-ea2db26e64ba',\n",
       " 'bc6b4b4d-a951-42ec-997b-bb1b30866964',\n",
       " 'c1a89984-a4e2-4a70-836c-98dd7d6d13cb',\n",
       " '978265ba-60e3-4560-bcc8-ce4f7002742d',\n",
       " '04a81611-fd82-45b6-90cd-9835ab1f924d',\n",
       " '5d341c3d-0b13-4796-afb4-33c85f005318',\n",
       " 'bfa368a0-f142-4819-8754-73eaa9d3c6d4',\n",
       " 'ad3689f3-cd3a-4ef6-aa67-77fa537654a0',\n",
       " '9783a849-2319-4d11-b980-454a44cd6f0e',\n",
       " 'd1a26b84-22f9-4d29-80f4-2f8db6ae4c17',\n",
       " '19092fd5-dc52-425d-b2d7-244f5d7504c5',\n",
       " 'bf76594a-bfcc-40b1-a264-0a9560712c99',\n",
       " '32a5daa2-bead-480f-91a9-7e4911588e4c',\n",
       " '1a3bab60-b22e-406f-a930-28d078b93533',\n",
       " '9a5842a8-7f93-4c1d-a472-9a3bedf7f0f0',\n",
       " '10bd2507-10a2-4c34-8333-5fe534ef5f89',\n",
       " '375af7f5-884e-4782-8e60-c0d3a18d7545',\n",
       " 'ccfe46fa-4051-4e7d-b197-988ff5b71917',\n",
       " 'dd6ad90f-f4af-41cd-a55f-0fab3ef3cde4',\n",
       " 'c9d6eeea-8ee2-4132-a16e-54b2c38e8d4b',\n",
       " '07aab108-7f77-4f37-98ee-4cac28f11582',\n",
       " 'ec3a5951-45f0-4f8d-9b0d-a7324002531c',\n",
       " '4c1baa82-a26c-4fe6-b33b-9a440a821bfb',\n",
       " '817933ea-ba24-43ff-9807-5f42899a75d7',\n",
       " 'ee8c49ee-4c6a-4cb7-a88d-bb8fb841e6ed',\n",
       " '347fc3d6-72b7-4cf0-a267-64a17bcb120a',\n",
       " '3b950ab1-0991-44ba-aeaa-f48747e64513',\n",
       " '39dbfb0e-a754-4863-bcd1-34a487f14506',\n",
       " 'c3cb34af-1ad8-4e7b-9172-cfe5c8c17bf8',\n",
       " '8da71f37-c1fd-4185-a53f-1149c12155f3',\n",
       " '5ccfe837-efad-44b2-82a4-3c23b27c3d52',\n",
       " 'aefe1455-feba-44cf-a2d3-6c1a1feafab8',\n",
       " '674d32ae-ee5a-402e-b6bb-e2d08577ce87',\n",
       " '83e41ced-0c6b-4ad1-a357-4f2833609275',\n",
       " '185dd52a-be0c-4894-9599-8ca837bef87f',\n",
       " '694c748c-d086-4bb4-b787-b84af7a6f1b3',\n",
       " '78790662-4c6d-4c1e-ba31-28b4bf39ede8',\n",
       " '80d8a4ab-52c8-4b40-aba6-b152e64e1f34',\n",
       " '4d49a9f8-e3c1-4ce1-bdd0-4a2a43b777a5',\n",
       " '048e1fe6-a552-4b9f-9fde-67d830f4a3e1',\n",
       " '64236129-f157-49e7-b5cf-b1491e6ffabf',\n",
       " '23bd153a-fa44-477f-8dc1-cba6df820c87',\n",
       " 'fbc96663-bd1a-42b2-b2ed-e5d341ece4d2',\n",
       " '58407ec7-e44b-4d28-861f-513096030ad5',\n",
       " 'eaa88e3c-6ae1-44be-a238-1800a28096b1',\n",
       " '1ca65fe3-0bdd-45c2-a1a8-2588379e3ef5',\n",
       " '1bdf0d11-4f8e-41db-8071-18d0b3d7939b',\n",
       " 'ca219e50-f5d1-4b06-b21e-9c7dedcdc6e7',\n",
       " '58d84c77-bff9-4a60-ac15-866dc1111d62',\n",
       " '8aa85c5e-a588-409a-b55e-81bcca274ad3',\n",
       " '12b70192-0fcc-4d24-b020-1373e46a7a07',\n",
       " '09d3ad6a-f973-4e86-a195-7d2eb42be6fb',\n",
       " '3ff74aff-d3c1-411b-9daa-5461b58e1a6b',\n",
       " 'aa5001c1-dfa4-4ad4-b435-2535e719be87',\n",
       " 'd796a972-1d3c-49d2-92db-3d11bdb1a0c9',\n",
       " '243fab2e-7e8e-4e80-be8f-1315d319b9da',\n",
       " '6f5fdcc4-7da5-44ee-bde2-64270d33629b',\n",
       " '902b6425-2e22-4c42-ac91-363fe367b459',\n",
       " '971dd76f-e391-4997-99a0-1ce02c720577',\n",
       " 'ddb915b2-6f62-405a-88c2-3eca39467a54',\n",
       " 'b2ca6ed8-e4ec-4a81-9818-7baab854cf13',\n",
       " '0383ad27-37ca-417f-bdef-3a079a5bd00b',\n",
       " '3d122288-87c5-468b-ac80-88d2a909af62',\n",
       " 'd3798c6d-fb6a-4445-be2e-ba52e0b86378',\n",
       " 'e2ebe8d7-4bcc-4754-8f0f-d6c50a4ca49e',\n",
       " 'c52a113b-a4e1-4d80-acef-5fa65bc66779',\n",
       " '893f438d-fb3b-45c3-bd0b-3607c8efd41e',\n",
       " 'f87eb363-e36e-42fb-9f64-299a740515ff',\n",
       " '3b322467-6a2e-4979-b230-f420065842d0',\n",
       " '9ed413a8-1179-4acc-b8b4-94a06d0d1141',\n",
       " '9104afe0-cd4f-4b62-ac07-00c611a35ed9',\n",
       " 'c83a7f1e-6ff1-4f37-88db-1a2f0a39ac30',\n",
       " '4b1c46b7-940f-4aff-807e-4c1df01aa406',\n",
       " '7de77cc5-c317-4c37-938f-88cb0f84a92b',\n",
       " '0088ef7d-ca35-418c-ac78-62cfe2dfd3f3',\n",
       " '7555de93-17d3-46be-a678-18f51daca0e2',\n",
       " '978e11d9-d1b7-4a31-8950-60648ede6c6d',\n",
       " '1d7708b4-fd06-4773-8b16-07609373a7b6',\n",
       " '49c17534-420b-4eda-92e3-639b9a1a2896',\n",
       " '40df987a-67dd-4885-bc44-ac082bfa7559',\n",
       " '33d49a39-2886-478e-8170-fa78dd7b628f',\n",
       " '1d2214d0-e7a8-4791-88dc-6568043d3344',\n",
       " 'f1398ba4-2da1-42e5-8710-24a40d5a8ce9',\n",
       " 'f35ad537-4dd7-40f5-869c-9096b43bf475',\n",
       " '4e3c2e50-95ed-4110-89a8-9ecd66a3ccb8',\n",
       " 'c1219820-ff2c-424b-b832-7691823b3157',\n",
       " 'af2f2f9e-8b74-424a-b1e4-70bdb36b7716',\n",
       " '0ed943e7-05e3-4c33-94f8-fcfb05e73c5b',\n",
       " 'c1929516-c0a6-4494-82f6-df0c82b63646',\n",
       " '2f31ea95-0322-4a16-bf0f-af81f4ba5b4d',\n",
       " '0eed3feb-6dec-455f-9165-f3d7ad406f92',\n",
       " '9fe7a2ad-e642-4d13-9c26-3f70f0e527ef',\n",
       " '16cf14b8-67fc-45d4-a5da-6759755e3307',\n",
       " '7af26b3e-aea8-4e07-ba5e-d9230e3346b5',\n",
       " '24ecf7eb-e0a4-410c-87cf-4e485819fb53',\n",
       " 'd0c1040e-d43d-4a27-ae20-d5e25820ec55',\n",
       " 'ed117d3c-38d8-4e8e-8362-a284f97c539d',\n",
       " '4c18cf05-416b-4f9a-9410-b7713a68a6ee',\n",
       " '942451ba-d0f9-427d-9bcf-4249379c9742',\n",
       " '7057c731-af43-42b2-bdf4-4f1ed6d58103',\n",
       " 'b8c661b5-2324-41a3-b938-bf610a0bc902',\n",
       " 'aa92d34c-4da1-4ad9-abf4-63f8da4e8631',\n",
       " '4e09276e-6516-4550-8dd3-8413db1e8b86',\n",
       " 'afe916b7-5544-4174-981b-279ce84d57ce',\n",
       " 'eeda4728-2679-41d0-995e-13a70f206955',\n",
       " 'b8ab461e-7289-483b-a580-b7841a42fd1c',\n",
       " '4d48e056-8c0e-42bf-9496-7c4429577175',\n",
       " '8768aa5c-9a56-47eb-9120-5f2ae3468b9d',\n",
       " '458e6060-6e43-4a64-b400-55f40502cc91',\n",
       " 'cf79ad9c-aecf-42c3-be96-ad5b4b2ef7f6',\n",
       " '79a2562e-90f7-4989-a6ae-88741c40dd8f',\n",
       " 'a3d69abc-f913-472d-93cd-92f52706fb94',\n",
       " '01f31ed3-d745-42f6-b050-37cd1cb12759',\n",
       " '27ad030b-7e38-4386-8251-52e798a13d14',\n",
       " 'fee16e60-00fc-445f-bc28-e56149301374',\n",
       " 'ceca5a91-040d-4086-b960-1fd1acb3d74c',\n",
       " 'df136e4f-20eb-4a27-8a40-e9fe1b376c74',\n",
       " 'dd3a1892-29cb-4d2e-90ed-7e414f738129',\n",
       " '2abab509-e3de-4cd8-b5a0-8d5b112e9999',\n",
       " '4fe36e94-f1a7-4b5a-82a1-24c121b55a50',\n",
       " 'db65448b-2533-4c55-8fad-6fef545a3711',\n",
       " '9570b2f2-d149-4e66-8c16-2d296e1024e8',\n",
       " '8faebfca-8d45-4115-9946-980055847b22']"
      ]
     },
     "execution_count": 20,
     "metadata": {},
     "output_type": "execute_result"
    }
   ],
   "source": [
    "\n",
    "vector_store.add_documents(documents=documents)\n"
   ]
  },
  {
   "cell_type": "code",
   "execution_count": 72,
   "id": "75390268",
   "metadata": {},
   "outputs": [],
   "source": [
    "retriever = vector_store.as_retriever(\n",
    "    search_type=\"mmr\",\n",
    "    search_kwargs={'k': 3}\n",
    ")"
   ]
  },
  {
   "cell_type": "code",
   "execution_count": 73,
   "id": "785fd7c5",
   "metadata": {},
   "outputs": [
    {
     "data": {
      "text/plain": [
       "[Document(id='8768aa5c-9a56-47eb-9120-5f2ae3468b9d', metadata={'producer': 'Canva', 'creator': 'Canva', 'creationdate': '2025-01-30T20:27:03+00:00', 'title': 'Ultimate Data Science & GenAI Bootcamp', 'moddate': '2025-01-30T20:26:59+00:00', 'keywords': 'DAGdmhcqnYw,BAEmsmap8Lg,0', 'author': 'monal singh', 'containsaigeneratedcontent': 'Yes', 'source': 'D:\\\\PROJECT_PRACTISE_DIRS\\\\AGENTICAI\\\\2-Langchain_Basics\\\\2.2-DataTransformer\\\\syllabus.pdf', 'total_pages': 34, 'page': 31, 'page_label': '32'}, page_content='Databases for RAG (e.g., Pinecone,\\nFAISS, Chroma DB)\\nRole of LLMs in RAG How LLMs (Large Language Models)\\nEnhance Generation in RAG, Fine-\\nTuning LLMs for Retrieval-Augmented\\nTasks'),\n",
       " Document(id='694c748c-d086-4bb4-b787-b84af7a6f1b3', metadata={'producer': 'Canva', 'creator': 'Canva', 'creationdate': '2025-01-30T20:27:03+00:00', 'title': 'Ultimate Data Science & GenAI Bootcamp', 'moddate': '2025-01-30T20:26:59+00:00', 'keywords': 'DAGdmhcqnYw,BAEmsmap8Lg,0', 'author': 'monal singh', 'containsaigeneratedcontent': 'Yes', 'source': 'D:\\\\PROJECT_PRACTISE_DIRS\\\\AGENTICAI\\\\2-Langchain_Basics\\\\2.2-DataTransformer\\\\syllabus.pdf', 'total_pages': 34, 'page': 19, 'page_label': '20'}, page_content='Module 12'),\n",
       " Document(id='aefe1455-feba-44cf-a2d3-6c1a1feafab8', metadata={'producer': 'Canva', 'creator': 'Canva', 'creationdate': '2025-01-30T20:27:03+00:00', 'title': 'Ultimate Data Science & GenAI Bootcamp', 'moddate': '2025-01-30T20:26:59+00:00', 'keywords': 'DAGdmhcqnYw,BAEmsmap8Lg,0', 'author': 'monal singh', 'containsaigeneratedcontent': 'Yes', 'source': 'D:\\\\PROJECT_PRACTISE_DIRS\\\\AGENTICAI\\\\2-Langchain_Basics\\\\2.2-DataTransformer\\\\syllabus.pdf', 'total_pages': 34, 'page': 18, 'page_label': '19'}, page_content='Out-of-Bag Evaluation, XGBoost\\nClassifier, XGBoost Regressor\\nSupport Vector Machines (SVM) Support Vector Classifiers, Support\\nVector Regressor, Support Vector\\nKernels')]"
      ]
     },
     "execution_count": 73,
     "metadata": {},
     "output_type": "execute_result"
    }
   ],
   "source": [
    "retriever.invoke(\"what is llama model?\")"
   ]
  },
  {
   "cell_type": "code",
   "execution_count": 74,
   "id": "1baaae70",
   "metadata": {},
   "outputs": [],
   "source": [
    "# Prompt\n",
    "prompt = PromptTemplate(\n",
    "    input_variables=[\"context\", \"question\"],\n",
    "    template=\"\"\"\n",
    "You are a helpful assistant. Use the following context to answer the question.\n",
    "If you don't know the answer, say you don't know.\n",
    "\n",
    "Context:\n",
    "{context}\n",
    "\n",
    "Question:\n",
    "{question}\n",
    "\n",
    "Answer:\n",
    "\"\"\"\n",
    ")"
   ]
  },
  {
   "cell_type": "code",
   "execution_count": 77,
   "id": "427bb1c1",
   "metadata": {},
   "outputs": [],
   "source": [
    "def format_docs(docs):\n",
    "    return \"\\n\\n\".join(doc.page_content for doc in docs)\n",
    "    "
   ]
  },
  {
   "cell_type": "code",
   "execution_count": 79,
   "id": "5d79ca6f",
   "metadata": {},
   "outputs": [],
   "source": [
    "rag_chain = (\n",
    "    {\"context\": retriever | format_docs, \"question\": RunnablePassthrough()}\n",
    "    | prompt\n",
    "    | llm\n",
    "    | StrOutputParser()\n",
    ")"
   ]
  },
  {
   "cell_type": "code",
   "execution_count": 80,
   "id": "2a5c63ca",
   "metadata": {},
   "outputs": [
    {
     "data": {
      "text/plain": [
       "'I have information about Sourangshu Pal, Monal Kumar, Mayank Aggrawal, and Darius B. I also have information about the types of statistics, types of data, levels of measurement, measures of central tendency, measures of dispersion, exploring random variables, probability, random variables, and set theory.'"
      ]
     },
     "execution_count": 80,
     "metadata": {},
     "output_type": "execute_result"
    }
   ],
   "source": [
    "\n",
    "rag_chain.invoke(\"Tell about The information you have\")"
   ]
  }
 ],
 "metadata": {
  "kernelspec": {
   "display_name": "py_ve_3.11.4",
   "language": "python",
   "name": "python3"
  },
  "language_info": {
   "codemirror_mode": {
    "name": "ipython",
    "version": 3
   },
   "file_extension": ".py",
   "mimetype": "text/x-python",
   "name": "python",
   "nbconvert_exporter": "python",
   "pygments_lexer": "ipython3",
   "version": "3.11.4"
  }
 },
 "nbformat": 4,
 "nbformat_minor": 5
}
