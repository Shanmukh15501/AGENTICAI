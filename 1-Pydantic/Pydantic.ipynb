{
 "cells": [
  {
   "cell_type": "markdown",
   "id": "bd5581e8",
   "metadata": {},
   "source": [
    "- **Pydantic** is a Python library for data validation and settings management using Python type annotations.\n",
    "- It is build by rust so its super fast and it performs validation and type conversion super easy and faster.\n",
    "- It ensures that data types are correct by parsing and validating input data (e.g., from APIs or user input).\n",
    "- Built on Python’s `dataclasses` and `typing` modules for cleaner, more readable code.\n",
    "- Automatically raises errors if input data doesn't conform to expected types or constraints.\n",
    "- Commonly used with **FastAPI**, **ORMs**, and **configuration management**.\n"
   ]
  },
  {
   "cell_type": "code",
   "execution_count": null,
   "id": "666baf00",
   "metadata": {},
   "outputs": [
    {
     "name": "stdout",
     "output_type": "stream",
     "text": [
      "Product(name='Chocolate', price=2.99, in_stock=True)\n",
      "Product(name='Chocolate', price='222', in_stock=True)\n"
     ]
    }
   ],
   "source": [
    "from dataclasses import dataclass\n",
    "\n",
    "@dataclass\n",
    "class Product:\n",
    "    name: str\n",
    "    price: float\n",
    "    in_stock: bool = True\n",
    "\n",
    "item = Product(\"Chocolate\", 2.99)\n",
    "print(item)\n",
    "\n",
    "#data validation is not done automatically in dataclasses\n",
    "item2 = Product(\"Chocolate\", '222')\n",
    "print(item2)"
   ]
  },
  {
   "cell_type": "code",
   "execution_count": 9,
   "id": "7a4c1e2f",
   "metadata": {},
   "outputs": [
    {
     "name": "stdout",
     "output_type": "stream",
     "text": [
      "name='Chocolate' price=2.99 stock_list=['item1', 'item2'] in_stock=False\n"
     ]
    },
    {
     "ename": "ValidationError",
     "evalue": "1 validation error for Product\nstock_list.2\n  Input should be a valid string [type=string_type, input_value=1, input_type=int]\n    For further information visit https://errors.pydantic.dev/2.11/v/string_type",
     "output_type": "error",
     "traceback": [
      "\u001b[31m---------------------------------------------------------------------------\u001b[39m",
      "\u001b[31mValidationError\u001b[39m                           Traceback (most recent call last)",
      "\u001b[36mCell\u001b[39m\u001b[36m \u001b[39m\u001b[32mIn[9]\u001b[39m\u001b[32m, line 14\u001b[39m\n\u001b[32m     11\u001b[39m item = Product(name=\u001b[33m\"\u001b[39m\u001b[33mChocolate\u001b[39m\u001b[33m\"\u001b[39m, price=\u001b[32m2.99\u001b[39m,stock_list=[\u001b[33m\"\u001b[39m\u001b[33mitem1\u001b[39m\u001b[33m\"\u001b[39m, \u001b[33m\"\u001b[39m\u001b[33mitem2\u001b[39m\u001b[33m\"\u001b[39m])\n\u001b[32m     12\u001b[39m \u001b[38;5;28mprint\u001b[39m(item)\n\u001b[32m---> \u001b[39m\u001b[32m14\u001b[39m item1 = \u001b[43mProduct\u001b[49m\u001b[43m(\u001b[49m\u001b[43mname\u001b[49m\u001b[43m=\u001b[49m\u001b[33;43m\"\u001b[39;49m\u001b[33;43mChocolate\u001b[39;49m\u001b[33;43m\"\u001b[39;49m\u001b[43m,\u001b[49m\u001b[43m \u001b[49m\u001b[43mprice\u001b[49m\u001b[43m=\u001b[49m\u001b[32;43m2.99\u001b[39;49m\u001b[43m,\u001b[49m\u001b[43min_stock\u001b[49m\u001b[43m=\u001b[49m\u001b[38;5;28;43;01mTrue\u001b[39;49;00m\u001b[43m,\u001b[49m\u001b[43mstock_list\u001b[49m\u001b[43m=\u001b[49m\u001b[43m(\u001b[49m\u001b[33;43m\"\u001b[39;49m\u001b[33;43mitem1\u001b[39;49m\u001b[33;43m\"\u001b[39;49m\u001b[43m,\u001b[49m\u001b[43m \u001b[49m\u001b[33;43m\"\u001b[39;49m\u001b[33;43mitem2\u001b[39;49m\u001b[33;43m\"\u001b[39;49m\u001b[43m,\u001b[49m\u001b[32;43m1\u001b[39;49m\u001b[43m)\u001b[49m\u001b[43m)\u001b[49m\n\u001b[32m     15\u001b[39m \u001b[38;5;28mprint\u001b[39m(item1)\n",
      "\u001b[36mFile \u001b[39m\u001b[32md:\\PROJECT_PRACTISE_DIRS\\AGENTICAI\\py_ve_3.11.4\\Lib\\site-packages\\pydantic\\main.py:253\u001b[39m, in \u001b[36mBaseModel.__init__\u001b[39m\u001b[34m(self, **data)\u001b[39m\n\u001b[32m    251\u001b[39m \u001b[38;5;66;03m# `__tracebackhide__` tells pytest and some other tools to omit this function from tracebacks\u001b[39;00m\n\u001b[32m    252\u001b[39m __tracebackhide__ = \u001b[38;5;28;01mTrue\u001b[39;00m\n\u001b[32m--> \u001b[39m\u001b[32m253\u001b[39m validated_self = \u001b[38;5;28;43mself\u001b[39;49m\u001b[43m.\u001b[49m\u001b[43m__pydantic_validator__\u001b[49m\u001b[43m.\u001b[49m\u001b[43mvalidate_python\u001b[49m\u001b[43m(\u001b[49m\u001b[43mdata\u001b[49m\u001b[43m,\u001b[49m\u001b[43m \u001b[49m\u001b[43mself_instance\u001b[49m\u001b[43m=\u001b[49m\u001b[38;5;28;43mself\u001b[39;49m\u001b[43m)\u001b[49m\n\u001b[32m    254\u001b[39m \u001b[38;5;28;01mif\u001b[39;00m \u001b[38;5;28mself\u001b[39m \u001b[38;5;129;01mis\u001b[39;00m \u001b[38;5;129;01mnot\u001b[39;00m validated_self:\n\u001b[32m    255\u001b[39m     warnings.warn(\n\u001b[32m    256\u001b[39m         \u001b[33m'\u001b[39m\u001b[33mA custom validator is returning a value other than `self`.\u001b[39m\u001b[38;5;130;01m\\n\u001b[39;00m\u001b[33m'\u001b[39m\n\u001b[32m    257\u001b[39m         \u001b[33m\"\u001b[39m\u001b[33mReturning anything other than `self` from a top level model validator isn\u001b[39m\u001b[33m'\u001b[39m\u001b[33mt supported when validating via `__init__`.\u001b[39m\u001b[38;5;130;01m\\n\u001b[39;00m\u001b[33m\"\u001b[39m\n\u001b[32m    258\u001b[39m         \u001b[33m'\u001b[39m\u001b[33mSee the `model_validator` docs (https://docs.pydantic.dev/latest/concepts/validators/#model-validators) for more details.\u001b[39m\u001b[33m'\u001b[39m,\n\u001b[32m    259\u001b[39m         stacklevel=\u001b[32m2\u001b[39m,\n\u001b[32m    260\u001b[39m     )\n",
      "\u001b[31mValidationError\u001b[39m: 1 validation error for Product\nstock_list.2\n  Input should be a valid string [type=string_type, input_value=1, input_type=int]\n    For further information visit https://errors.pydantic.dev/2.11/v/string_type"
     ]
    }
   ],
   "source": [
    "from pydantic import BaseModel, ValidationError\n",
    "from typing import Optional,List\n",
    "\n",
    "\n",
    "class Product(BaseModel):\n",
    "    name: str\n",
    "    price: float\n",
    "    stock_list : Optional[List[str]] = []\n",
    "    in_stock: Optional[bool] = False  # Now it's optional\n",
    "\n",
    "item = Product(name=\"Chocolate\", price=2.99,stock_list=[\"item1\", \"item2\"])\n",
    "print(item)\n",
    "\n",
    "item1 = Product(name=\"Chocolate\", price=2.99,in_stock=True,stock_list=(\"item1\", \"item2\",1))\n",
    "print(item1)\n"
   ]
  },
  {
   "cell_type": "code",
   "execution_count": 10,
   "id": "d8795a45",
   "metadata": {},
   "outputs": [
    {
     "name": "stdout",
     "output_type": "stream",
     "text": [
      "name='Chocolate' price=2.0 stock_list=[] in_stock=False\n"
     ]
    }
   ],
   "source": [
    "item = Product(name=\"Chocolate\", price=\"2\",in_stock=False)\n",
    "print(item)\n"
   ]
  },
  {
   "cell_type": "code",
   "execution_count": 11,
   "id": "572ae4af",
   "metadata": {},
   "outputs": [
    {
     "name": "stdout",
     "output_type": "stream",
     "text": [
      "name='Chocolate' price=2.99 in_stock=True\n"
     ]
    }
   ],
   "source": [
    "from pydantic import BaseModel, StrictFloat\n",
    "\n",
    "class Product(BaseModel):\n",
    "    name: str\n",
    "    price: StrictFloat\n",
    "    in_stock: bool = True\n",
    "\n",
    "item = Product(name=\"Chocolate\", price=2.99)\n",
    "print(item)\n"
   ]
  },
  {
   "cell_type": "code",
   "execution_count": 12,
   "id": "5834bb74",
   "metadata": {},
   "outputs": [
    {
     "ename": "ValidationError",
     "evalue": "1 validation error for Product\nprice\n  Input should be a valid number [type=float_type, input_value='2', input_type=str]\n    For further information visit https://errors.pydantic.dev/2.11/v/float_type",
     "output_type": "error",
     "traceback": [
      "\u001b[31m---------------------------------------------------------------------------\u001b[39m",
      "\u001b[31mValidationError\u001b[39m                           Traceback (most recent call last)",
      "\u001b[36mCell\u001b[39m\u001b[36m \u001b[39m\u001b[32mIn[12]\u001b[39m\u001b[32m, line 1\u001b[39m\n\u001b[32m----> \u001b[39m\u001b[32m1\u001b[39m item = \u001b[43mProduct\u001b[49m\u001b[43m(\u001b[49m\u001b[43mname\u001b[49m\u001b[43m=\u001b[49m\u001b[33;43m\"\u001b[39;49m\u001b[33;43mChocolate\u001b[39;49m\u001b[33;43m\"\u001b[39;49m\u001b[43m,\u001b[49m\u001b[43m \u001b[49m\u001b[43mprice\u001b[49m\u001b[43m=\u001b[49m\u001b[33;43m\"\u001b[39;49m\u001b[33;43m2\u001b[39;49m\u001b[33;43m\"\u001b[39;49m\u001b[43m,\u001b[49m\u001b[43min_stock\u001b[49m\u001b[43m=\u001b[49m\u001b[38;5;28;43;01mFalse\u001b[39;49;00m\u001b[43m)\u001b[49m\n\u001b[32m      2\u001b[39m \u001b[38;5;28mprint\u001b[39m(item)\n",
      "\u001b[36mFile \u001b[39m\u001b[32md:\\PROJECT_PRACTISE_DIRS\\AGENTICAI\\py_ve_3.11.4\\Lib\\site-packages\\pydantic\\main.py:253\u001b[39m, in \u001b[36mBaseModel.__init__\u001b[39m\u001b[34m(self, **data)\u001b[39m\n\u001b[32m    251\u001b[39m \u001b[38;5;66;03m# `__tracebackhide__` tells pytest and some other tools to omit this function from tracebacks\u001b[39;00m\n\u001b[32m    252\u001b[39m __tracebackhide__ = \u001b[38;5;28;01mTrue\u001b[39;00m\n\u001b[32m--> \u001b[39m\u001b[32m253\u001b[39m validated_self = \u001b[38;5;28;43mself\u001b[39;49m\u001b[43m.\u001b[49m\u001b[43m__pydantic_validator__\u001b[49m\u001b[43m.\u001b[49m\u001b[43mvalidate_python\u001b[49m\u001b[43m(\u001b[49m\u001b[43mdata\u001b[49m\u001b[43m,\u001b[49m\u001b[43m \u001b[49m\u001b[43mself_instance\u001b[49m\u001b[43m=\u001b[49m\u001b[38;5;28;43mself\u001b[39;49m\u001b[43m)\u001b[49m\n\u001b[32m    254\u001b[39m \u001b[38;5;28;01mif\u001b[39;00m \u001b[38;5;28mself\u001b[39m \u001b[38;5;129;01mis\u001b[39;00m \u001b[38;5;129;01mnot\u001b[39;00m validated_self:\n\u001b[32m    255\u001b[39m     warnings.warn(\n\u001b[32m    256\u001b[39m         \u001b[33m'\u001b[39m\u001b[33mA custom validator is returning a value other than `self`.\u001b[39m\u001b[38;5;130;01m\\n\u001b[39;00m\u001b[33m'\u001b[39m\n\u001b[32m    257\u001b[39m         \u001b[33m\"\u001b[39m\u001b[33mReturning anything other than `self` from a top level model validator isn\u001b[39m\u001b[33m'\u001b[39m\u001b[33mt supported when validating via `__init__`.\u001b[39m\u001b[38;5;130;01m\\n\u001b[39;00m\u001b[33m\"\u001b[39m\n\u001b[32m    258\u001b[39m         \u001b[33m'\u001b[39m\u001b[33mSee the `model_validator` docs (https://docs.pydantic.dev/latest/concepts/validators/#model-validators) for more details.\u001b[39m\u001b[33m'\u001b[39m,\n\u001b[32m    259\u001b[39m         stacklevel=\u001b[32m2\u001b[39m,\n\u001b[32m    260\u001b[39m     )\n",
      "\u001b[31mValidationError\u001b[39m: 1 validation error for Product\nprice\n  Input should be a valid number [type=float_type, input_value='2', input_type=str]\n    For further information visit https://errors.pydantic.dev/2.11/v/float_type"
     ]
    }
   ],
   "source": [
    "item = Product(name=\"Chocolate\", price=\"2\",in_stock=False)\n",
    "print(item)\n"
   ]
  },
  {
   "cell_type": "code",
   "execution_count": 13,
   "id": "b6c763e4",
   "metadata": {},
   "outputs": [
    {
     "name": "stdout",
     "output_type": "stream",
     "text": [
      "name='Chocolate' price=2.99 in_stock=True category=Category(id=1, name='Snacks')\n"
     ]
    }
   ],
   "source": [
    "from pydantic import BaseModel\n",
    "from typing import Optional\n",
    "\n",
    "class Category(BaseModel):\n",
    "    id: int\n",
    "    name: str\n",
    "\n",
    "class Product(BaseModel):\n",
    "    name: str\n",
    "    price: float\n",
    "    in_stock: Optional[bool] = True\n",
    "    category: Category  # Nested model\n",
    "\n",
    "# Creating a product with a nested category\n",
    "item = Product(\n",
    "    name=\"Chocolate\",\n",
    "    price=2.99,\n",
    "    category=Category(id=1, name=\"Snacks\")\n",
    ")\n",
    "\n",
    "print(item)\n"
   ]
  },
  {
   "cell_type": "code",
   "execution_count": 14,
   "id": "4326559e",
   "metadata": {},
   "outputs": [],
   "source": [
    "from pydantic import BaseModel, Field\n",
    "\n",
    "class Product(BaseModel):\n",
    "    name: str = Field(..., min_length=2, max_length=50, description=\"Product name\")\n",
    "    price: float = Field(..., gt=0, description=\"Must be greater than 0\")\n",
    "    stock: int = Field(default=0, ge=0, description=\"Non-negative integer\")\n"
   ]
  },
  {
   "cell_type": "code",
   "execution_count": 15,
   "id": "ac127b97",
   "metadata": {},
   "outputs": [
    {
     "name": "stdout",
     "output_type": "stream",
     "text": [
      "name='Apple' price=1.25 stock=0\n"
     ]
    }
   ],
   "source": [
    "product = Product(name=\"Apple\", price=1.25)\n",
    "print(product)\n"
   ]
  },
  {
   "cell_type": "code",
   "execution_count": 16,
   "id": "637c639b",
   "metadata": {},
   "outputs": [
    {
     "data": {
      "text/plain": [
       "{'properties': {'name': {'description': 'Product name',\n",
       "   'maxLength': 50,\n",
       "   'minLength': 2,\n",
       "   'title': 'Name',\n",
       "   'type': 'string'},\n",
       "  'price': {'description': 'Must be greater than 0',\n",
       "   'exclusiveMinimum': 0,\n",
       "   'title': 'Price',\n",
       "   'type': 'number'},\n",
       "  'stock': {'default': 0,\n",
       "   'description': 'Non-negative integer',\n",
       "   'minimum': 0,\n",
       "   'title': 'Stock',\n",
       "   'type': 'integer'}},\n",
       " 'required': ['name', 'price'],\n",
       " 'title': 'Product',\n",
       " 'type': 'object'}"
      ]
     },
     "execution_count": 16,
     "metadata": {},
     "output_type": "execute_result"
    }
   ],
   "source": [
    "product.model_json_schema()"
   ]
  },
  {
   "cell_type": "code",
   "execution_count": 17,
   "id": "8ee69437",
   "metadata": {},
   "outputs": [
    {
     "name": "stdout",
     "output_type": "stream",
     "text": [
      "Ex1: 1519128949952\n",
      "Ex2: 1519128940544\n",
      "Ex1 dynamic_list: []\n",
      "Ex2 dynamic_list: []\n",
      "Ex1 UUID: a128ac21-7231-4815-bcc3-949dfd0935da\n",
      "Ex2 UUID: b976dfe5-cd43-4229-a4ca-282594c921c1\n",
      "Ex1 time: 2025-05-24 05:24:49.844873\n",
      "Ex2 time: 2025-05-24 05:24:49.844873\n"
     ]
    }
   ],
   "source": [
    "from pydantic import BaseModel, Field\n",
    "from typing import List, Dict\n",
    "from datetime import datetime\n",
    "import uuid\n",
    "\n",
    "class Example(BaseModel):\n",
    "    # ❌ BAD: Same list shared between instances\n",
    "    static_list: List[str] = []  \n",
    "\n",
    "    # ✅ GOOD: New list per instance\n",
    "    dynamic_list: List[str] = Field(default_factory=list)\n",
    "\n",
    "    # Static default value (string)\n",
    "    status: str = \"pending\"\n",
    "\n",
    "    # Dynamic default value: UUID\n",
    "    session_id: str = Field(default_factory=lambda: str(uuid.uuid4()))\n",
    "\n",
    "    # Dynamic default value: current time\n",
    "    created_at: datetime = Field(default_factory=datetime.utcnow)\n",
    "\n",
    "# Create two instances\n",
    "ex1 = Example()\n",
    "ex2 = Example()\n",
    "\n",
    "# Modify the static list in one instance\n",
    "ex1.static_list.append(1)\n",
    "\n",
    "print(\"Ex1:\", id(ex1.static_list))\n",
    "print(\"Ex2:\", id(ex2.static_list))  \n",
    "\n",
    "print(\"Ex1 dynamic_list:\", ex1.dynamic_list)  # [] ✅\n",
    "print(\"Ex2 dynamic_list:\", ex2.dynamic_list)  # [] ✅\n",
    "\n",
    "print(\"Ex1 UUID:\", ex1.session_id)\n",
    "print(\"Ex2 UUID:\", ex2.session_id)  # Different ✅\n",
    "\n",
    "print(\"Ex1 time:\", ex1.created_at)\n",
    "print(\"Ex2 time:\", ex2.created_at)  # Different (created separately) ✅\n"
   ]
  },
  {
   "cell_type": "code",
   "execution_count": 18,
   "id": "e17df430",
   "metadata": {},
   "outputs": [
    {
     "name": "stdout",
     "output_type": "stream",
     "text": [
      "age=25\n"
     ]
    }
   ],
   "source": [
    "from pydantic import BaseModel, field_validator\n",
    "\n",
    "class User(BaseModel):\n",
    "    age: int\n",
    "\n",
    "    @field_validator('age')\n",
    "    def age_must_be_positive(cls, v):\n",
    "        if v <= 0:\n",
    "            raise ValueError('Age must be positive')\n",
    "        return v\n",
    "user = User(age=25)\n",
    "print(user)\n"
   ]
  },
  {
   "cell_type": "code",
   "execution_count": 19,
   "id": "03338953",
   "metadata": {},
   "outputs": [
    {
     "ename": "ValidationError",
     "evalue": "1 validation error for User\nage\n  Value error, Age must be positive [type=value_error, input_value=-25, input_type=int]\n    For further information visit https://errors.pydantic.dev/2.11/v/value_error",
     "output_type": "error",
     "traceback": [
      "\u001b[31m---------------------------------------------------------------------------\u001b[39m",
      "\u001b[31mValidationError\u001b[39m                           Traceback (most recent call last)",
      "\u001b[36mCell\u001b[39m\u001b[36m \u001b[39m\u001b[32mIn[19]\u001b[39m\u001b[32m, line 1\u001b[39m\n\u001b[32m----> \u001b[39m\u001b[32m1\u001b[39m user = \u001b[43mUser\u001b[49m\u001b[43m(\u001b[49m\u001b[43mage\u001b[49m\u001b[43m=\u001b[49m\u001b[43m-\u001b[49m\u001b[32;43m25\u001b[39;49m\u001b[43m)\u001b[49m\n\u001b[32m      2\u001b[39m \u001b[38;5;28mprint\u001b[39m(user)\n",
      "\u001b[36mFile \u001b[39m\u001b[32md:\\PROJECT_PRACTISE_DIRS\\AGENTICAI\\py_ve_3.11.4\\Lib\\site-packages\\pydantic\\main.py:253\u001b[39m, in \u001b[36mBaseModel.__init__\u001b[39m\u001b[34m(self, **data)\u001b[39m\n\u001b[32m    251\u001b[39m \u001b[38;5;66;03m# `__tracebackhide__` tells pytest and some other tools to omit this function from tracebacks\u001b[39;00m\n\u001b[32m    252\u001b[39m __tracebackhide__ = \u001b[38;5;28;01mTrue\u001b[39;00m\n\u001b[32m--> \u001b[39m\u001b[32m253\u001b[39m validated_self = \u001b[38;5;28;43mself\u001b[39;49m\u001b[43m.\u001b[49m\u001b[43m__pydantic_validator__\u001b[49m\u001b[43m.\u001b[49m\u001b[43mvalidate_python\u001b[49m\u001b[43m(\u001b[49m\u001b[43mdata\u001b[49m\u001b[43m,\u001b[49m\u001b[43m \u001b[49m\u001b[43mself_instance\u001b[49m\u001b[43m=\u001b[49m\u001b[38;5;28;43mself\u001b[39;49m\u001b[43m)\u001b[49m\n\u001b[32m    254\u001b[39m \u001b[38;5;28;01mif\u001b[39;00m \u001b[38;5;28mself\u001b[39m \u001b[38;5;129;01mis\u001b[39;00m \u001b[38;5;129;01mnot\u001b[39;00m validated_self:\n\u001b[32m    255\u001b[39m     warnings.warn(\n\u001b[32m    256\u001b[39m         \u001b[33m'\u001b[39m\u001b[33mA custom validator is returning a value other than `self`.\u001b[39m\u001b[38;5;130;01m\\n\u001b[39;00m\u001b[33m'\u001b[39m\n\u001b[32m    257\u001b[39m         \u001b[33m\"\u001b[39m\u001b[33mReturning anything other than `self` from a top level model validator isn\u001b[39m\u001b[33m'\u001b[39m\u001b[33mt supported when validating via `__init__`.\u001b[39m\u001b[38;5;130;01m\\n\u001b[39;00m\u001b[33m\"\u001b[39m\n\u001b[32m    258\u001b[39m         \u001b[33m'\u001b[39m\u001b[33mSee the `model_validator` docs (https://docs.pydantic.dev/latest/concepts/validators/#model-validators) for more details.\u001b[39m\u001b[33m'\u001b[39m,\n\u001b[32m    259\u001b[39m         stacklevel=\u001b[32m2\u001b[39m,\n\u001b[32m    260\u001b[39m     )\n",
      "\u001b[31mValidationError\u001b[39m: 1 validation error for User\nage\n  Value error, Age must be positive [type=value_error, input_value=-25, input_type=int]\n    For further information visit https://errors.pydantic.dev/2.11/v/value_error"
     ]
    }
   ],
   "source": [
    "user = User(age=-25)\n",
    "print(user)"
   ]
  },
  {
   "cell_type": "code",
   "execution_count": 20,
   "id": "6d747cba",
   "metadata": {},
   "outputs": [
    {
     "name": "stdout",
     "output_type": "stream",
     "text": [
      "Valid booking: start_date=datetime.date(2025, 5, 1) end_date=datetime.date(2025, 5, 10)\n",
      "Validation Error:\n",
      " 1 validation error for Booking\n",
      "  Value error, End date must be after start date [type=value_error, input_value={'start_date': '2025-05-1...end_date': '2025-05-01'}, input_type=dict]\n",
      "    For further information visit https://errors.pydantic.dev/2.11/v/value_error\n"
     ]
    }
   ],
   "source": [
    "from pydantic import BaseModel, model_validator\n",
    "from datetime import date\n",
    "\n",
    "class Booking(BaseModel):\n",
    "    start_date: date\n",
    "    end_date: date\n",
    "\n",
    "    @model_validator(mode='after')\n",
    "    def check_dates(self):\n",
    "        if self.end_date < self.start_date:\n",
    "            raise ValueError('End date must be after start date')\n",
    "        return self\n",
    "\n",
    "\n",
    "# -----------------------\n",
    "# Valid Input\n",
    "# -----------------------\n",
    "try:\n",
    "    booking = Booking(start_date='2025-05-01', end_date='2025-05-10')\n",
    "    print(\"Valid booking:\", booking)\n",
    "except ValidationError as e:\n",
    "    print(\"Validation Error:\\n\", e)\n",
    "\n",
    "# -----------------------\n",
    "# Invalid Input\n",
    "# -----------------------\n",
    "try:\n",
    "    booking = Booking(start_date='2025-05-10', end_date='2025-05-01')\n",
    "    print(\"Booking created:\", booking)\n",
    "except ValidationError as e:\n",
    "    print(\"Validation Error:\\n\", e)\n"
   ]
  }
 ],
 "metadata": {
  "kernelspec": {
   "display_name": "py_ve_3.11.4",
   "language": "python",
   "name": "python3"
  },
  "language_info": {
   "codemirror_mode": {
    "name": "ipython",
    "version": 3
   },
   "file_extension": ".py",
   "mimetype": "text/x-python",
   "name": "python",
   "nbconvert_exporter": "python",
   "pygments_lexer": "ipython3",
   "version": "3.11.4"
  }
 },
 "nbformat": 4,
 "nbformat_minor": 5
}
