{
 "cells": [
  {
   "cell_type": "markdown",
   "id": "bd5581e8",
   "metadata": {},
   "source": [
    "- **Pydantic** is a Python library for data validation and settings management using Python type annotations.\n",
    "- It is build by rust so its super fast and it performs validation and type conversion super easy and faster.\n",
    "- It ensures that data types are correct by parsing and validating input data (e.g., from APIs or user input).\n",
    "- Built on Python’s `dataclasses` and `typing` modules for cleaner, more readable code.\n",
    "- Automatically raises errors if input data doesn't conform to expected types or constraints.\n",
    "- Commonly used with **FastAPI**, **ORMs**, and **configuration management**.\n"
   ]
  },
  {
   "cell_type": "code",
   "execution_count": 3,
   "id": "666baf00",
   "metadata": {},
   "outputs": [
    {
     "name": "stdout",
     "output_type": "stream",
     "text": [
      "Product(name='Chocolate', price=2.99, in_stock=True)\n",
      "Product(name=1223, price='222', in_stock=True)\n"
     ]
    }
   ],
   "source": [
    "from dataclasses import dataclass\n",
    "\n",
    "@dataclass\n",
    "class Product:\n",
    "    name: str\n",
    "    price: float\n",
    "    in_stock: bool = True\n",
    "\n",
    "item = Product(\"Chocolate\", 2.99)\n",
    "print(item)\n",
    "\n",
    "#data validation is not done automatically in dataclasses\n",
    "item2 = Product(1223, '222')\n",
    "print(item2)"
   ]
  },
  {
   "cell_type": "code",
   "execution_count": 15,
   "id": "7a4c1e2f",
   "metadata": {},
   "outputs": [
    {
     "name": "stdout",
     "output_type": "stream",
     "text": [
      "name='Chocolate' price=2.0 stock_list=['item1', 'item2'] in_stock=False\n"
     ]
    }
   ],
   "source": [
    "from pydantic import BaseModel, ValidationError\n",
    "from typing import Optional,List\n",
    "\n",
    "\n",
    "class Product(BaseModel):\n",
    "    name: str\n",
    "    price: float\n",
    "    stock_list : Optional[List[str]] = []\n",
    "    in_stock: Optional[bool] = False  # Now it's optional\n",
    "\n",
    "item = Product(name=\"Chocolate\", price='2',stock_list=[\"item1\", \"item2\"])\n",
    "print(item)\n"
   ]
  },
  {
   "cell_type": "code",
   "execution_count": 16,
   "id": "8e86c054",
   "metadata": {},
   "outputs": [
    {
     "ename": "ValidationError",
     "evalue": "1 validation error for Product\nstock_list.2\n  Input should be a valid string [type=string_type, input_value=1, input_type=int]\n    For further information visit https://errors.pydantic.dev/2.11/v/string_type",
     "output_type": "error",
     "traceback": [
      "\u001b[31m---------------------------------------------------------------------------\u001b[39m",
      "\u001b[31mValidationError\u001b[39m                           Traceback (most recent call last)",
      "\u001b[36mCell\u001b[39m\u001b[36m \u001b[39m\u001b[32mIn[16]\u001b[39m\u001b[32m, line 1\u001b[39m\n\u001b[32m----> \u001b[39m\u001b[32m1\u001b[39m item1 = \u001b[43mProduct\u001b[49m\u001b[43m(\u001b[49m\u001b[43mname\u001b[49m\u001b[43m=\u001b[49m\u001b[33;43m\"\u001b[39;49m\u001b[33;43mChocolate\u001b[39;49m\u001b[33;43m\"\u001b[39;49m\u001b[43m,\u001b[49m\u001b[43m \u001b[49m\u001b[43mprice\u001b[49m\u001b[43m=\u001b[49m\u001b[32;43m2.99\u001b[39;49m\u001b[43m,\u001b[49m\u001b[43min_stock\u001b[49m\u001b[43m=\u001b[49m\u001b[38;5;28;43;01mTrue\u001b[39;49;00m\u001b[43m,\u001b[49m\u001b[43mstock_list\u001b[49m\u001b[43m=\u001b[49m\u001b[43m(\u001b[49m\u001b[33;43m\"\u001b[39;49m\u001b[33;43mitem1\u001b[39;49m\u001b[33;43m\"\u001b[39;49m\u001b[43m,\u001b[49m\u001b[43m \u001b[49m\u001b[33;43m\"\u001b[39;49m\u001b[33;43mitem2\u001b[39;49m\u001b[33;43m\"\u001b[39;49m\u001b[43m,\u001b[49m\u001b[32;43m1\u001b[39;49m\u001b[43m)\u001b[49m\u001b[43m)\u001b[49m\n\u001b[32m      2\u001b[39m \u001b[38;5;28mprint\u001b[39m(item1)\n",
      "\u001b[36mFile \u001b[39m\u001b[32md:\\PROJECT_PRACTISE_DIRS\\AGENTICAI\\py_ve_3.11.4\\Lib\\site-packages\\pydantic\\main.py:253\u001b[39m, in \u001b[36mBaseModel.__init__\u001b[39m\u001b[34m(self, **data)\u001b[39m\n\u001b[32m    251\u001b[39m \u001b[38;5;66;03m# `__tracebackhide__` tells pytest and some other tools to omit this function from tracebacks\u001b[39;00m\n\u001b[32m    252\u001b[39m __tracebackhide__ = \u001b[38;5;28;01mTrue\u001b[39;00m\n\u001b[32m--> \u001b[39m\u001b[32m253\u001b[39m validated_self = \u001b[38;5;28;43mself\u001b[39;49m\u001b[43m.\u001b[49m\u001b[43m__pydantic_validator__\u001b[49m\u001b[43m.\u001b[49m\u001b[43mvalidate_python\u001b[49m\u001b[43m(\u001b[49m\u001b[43mdata\u001b[49m\u001b[43m,\u001b[49m\u001b[43m \u001b[49m\u001b[43mself_instance\u001b[49m\u001b[43m=\u001b[49m\u001b[38;5;28;43mself\u001b[39;49m\u001b[43m)\u001b[49m\n\u001b[32m    254\u001b[39m \u001b[38;5;28;01mif\u001b[39;00m \u001b[38;5;28mself\u001b[39m \u001b[38;5;129;01mis\u001b[39;00m \u001b[38;5;129;01mnot\u001b[39;00m validated_self:\n\u001b[32m    255\u001b[39m     warnings.warn(\n\u001b[32m    256\u001b[39m         \u001b[33m'\u001b[39m\u001b[33mA custom validator is returning a value other than `self`.\u001b[39m\u001b[38;5;130;01m\\n\u001b[39;00m\u001b[33m'\u001b[39m\n\u001b[32m    257\u001b[39m         \u001b[33m\"\u001b[39m\u001b[33mReturning anything other than `self` from a top level model validator isn\u001b[39m\u001b[33m'\u001b[39m\u001b[33mt supported when validating via `__init__`.\u001b[39m\u001b[38;5;130;01m\\n\u001b[39;00m\u001b[33m\"\u001b[39m\n\u001b[32m    258\u001b[39m         \u001b[33m'\u001b[39m\u001b[33mSee the `model_validator` docs (https://docs.pydantic.dev/latest/concepts/validators/#model-validators) for more details.\u001b[39m\u001b[33m'\u001b[39m,\n\u001b[32m    259\u001b[39m         stacklevel=\u001b[32m2\u001b[39m,\n\u001b[32m    260\u001b[39m     )\n",
      "\u001b[31mValidationError\u001b[39m: 1 validation error for Product\nstock_list.2\n  Input should be a valid string [type=string_type, input_value=1, input_type=int]\n    For further information visit https://errors.pydantic.dev/2.11/v/string_type"
     ]
    }
   ],
   "source": [
    "item1 = Product(name=\"Chocolate\", price=2.99,in_stock=True,stock_list=(\"item1\", \"item2\",1))\n",
    "print(item1)"
   ]
  },
  {
   "cell_type": "code",
   "execution_count": 17,
   "id": "d8795a45",
   "metadata": {},
   "outputs": [
    {
     "name": "stdout",
     "output_type": "stream",
     "text": [
      "name='Chocolate' price=2.0 stock_list=[] in_stock=False\n"
     ]
    }
   ],
   "source": [
    "item = Product(name=\"Chocolate\", price=\"2\",in_stock=False)\n",
    "print(item)\n"
   ]
  },
  {
   "cell_type": "code",
   "execution_count": 18,
   "id": "572ae4af",
   "metadata": {},
   "outputs": [
    {
     "name": "stdout",
     "output_type": "stream",
     "text": [
      "name='Chocolate' price=2.99 in_stock=True\n"
     ]
    }
   ],
   "source": [
    "from pydantic import BaseModel, StrictFloat\n",
    "\n",
    "class Product(BaseModel):\n",
    "    name: str\n",
    "    price: StrictFloat\n",
    "    in_stock: bool = True\n",
    "\n",
    "item = Product(name=\"Chocolate\", price=2.99)\n",
    "print(item)\n"
   ]
  },
  {
   "cell_type": "code",
   "execution_count": 19,
   "id": "5834bb74",
   "metadata": {},
   "outputs": [
    {
     "ename": "ValidationError",
     "evalue": "1 validation error for Product\nprice\n  Input should be a valid number [type=float_type, input_value='2', input_type=str]\n    For further information visit https://errors.pydantic.dev/2.11/v/float_type",
     "output_type": "error",
     "traceback": [
      "\u001b[31m---------------------------------------------------------------------------\u001b[39m",
      "\u001b[31mValidationError\u001b[39m                           Traceback (most recent call last)",
      "\u001b[36mCell\u001b[39m\u001b[36m \u001b[39m\u001b[32mIn[19]\u001b[39m\u001b[32m, line 1\u001b[39m\n\u001b[32m----> \u001b[39m\u001b[32m1\u001b[39m item = \u001b[43mProduct\u001b[49m\u001b[43m(\u001b[49m\u001b[43mname\u001b[49m\u001b[43m=\u001b[49m\u001b[33;43m\"\u001b[39;49m\u001b[33;43mChocolate\u001b[39;49m\u001b[33;43m\"\u001b[39;49m\u001b[43m,\u001b[49m\u001b[43m \u001b[49m\u001b[43mprice\u001b[49m\u001b[43m=\u001b[49m\u001b[33;43m\"\u001b[39;49m\u001b[33;43m2\u001b[39;49m\u001b[33;43m\"\u001b[39;49m\u001b[43m,\u001b[49m\u001b[43min_stock\u001b[49m\u001b[43m=\u001b[49m\u001b[38;5;28;43;01mFalse\u001b[39;49;00m\u001b[43m)\u001b[49m\n\u001b[32m      2\u001b[39m \u001b[38;5;28mprint\u001b[39m(item)\n",
      "\u001b[36mFile \u001b[39m\u001b[32md:\\PROJECT_PRACTISE_DIRS\\AGENTICAI\\py_ve_3.11.4\\Lib\\site-packages\\pydantic\\main.py:253\u001b[39m, in \u001b[36mBaseModel.__init__\u001b[39m\u001b[34m(self, **data)\u001b[39m\n\u001b[32m    251\u001b[39m \u001b[38;5;66;03m# `__tracebackhide__` tells pytest and some other tools to omit this function from tracebacks\u001b[39;00m\n\u001b[32m    252\u001b[39m __tracebackhide__ = \u001b[38;5;28;01mTrue\u001b[39;00m\n\u001b[32m--> \u001b[39m\u001b[32m253\u001b[39m validated_self = \u001b[38;5;28;43mself\u001b[39;49m\u001b[43m.\u001b[49m\u001b[43m__pydantic_validator__\u001b[49m\u001b[43m.\u001b[49m\u001b[43mvalidate_python\u001b[49m\u001b[43m(\u001b[49m\u001b[43mdata\u001b[49m\u001b[43m,\u001b[49m\u001b[43m \u001b[49m\u001b[43mself_instance\u001b[49m\u001b[43m=\u001b[49m\u001b[38;5;28;43mself\u001b[39;49m\u001b[43m)\u001b[49m\n\u001b[32m    254\u001b[39m \u001b[38;5;28;01mif\u001b[39;00m \u001b[38;5;28mself\u001b[39m \u001b[38;5;129;01mis\u001b[39;00m \u001b[38;5;129;01mnot\u001b[39;00m validated_self:\n\u001b[32m    255\u001b[39m     warnings.warn(\n\u001b[32m    256\u001b[39m         \u001b[33m'\u001b[39m\u001b[33mA custom validator is returning a value other than `self`.\u001b[39m\u001b[38;5;130;01m\\n\u001b[39;00m\u001b[33m'\u001b[39m\n\u001b[32m    257\u001b[39m         \u001b[33m\"\u001b[39m\u001b[33mReturning anything other than `self` from a top level model validator isn\u001b[39m\u001b[33m'\u001b[39m\u001b[33mt supported when validating via `__init__`.\u001b[39m\u001b[38;5;130;01m\\n\u001b[39;00m\u001b[33m\"\u001b[39m\n\u001b[32m    258\u001b[39m         \u001b[33m'\u001b[39m\u001b[33mSee the `model_validator` docs (https://docs.pydantic.dev/latest/concepts/validators/#model-validators) for more details.\u001b[39m\u001b[33m'\u001b[39m,\n\u001b[32m    259\u001b[39m         stacklevel=\u001b[32m2\u001b[39m,\n\u001b[32m    260\u001b[39m     )\n",
      "\u001b[31mValidationError\u001b[39m: 1 validation error for Product\nprice\n  Input should be a valid number [type=float_type, input_value='2', input_type=str]\n    For further information visit https://errors.pydantic.dev/2.11/v/float_type"
     ]
    }
   ],
   "source": [
    "item = Product(name=\"Chocolate\", price=\"2\",in_stock=False)\n",
    "print(item)\n"
   ]
  },
  {
   "cell_type": "code",
   "execution_count": 20,
   "id": "b6c763e4",
   "metadata": {},
   "outputs": [
    {
     "name": "stdout",
     "output_type": "stream",
     "text": [
      "name='Chocolate' price=2.99 in_stock=True category=Category(id=1, name='Snacks')\n"
     ]
    }
   ],
   "source": [
    "from pydantic import BaseModel\n",
    "from typing import Optional\n",
    "\n",
    "class Category(BaseModel):\n",
    "    id: int\n",
    "    name: str\n",
    "\n",
    "class Product(BaseModel):\n",
    "    name: str\n",
    "    price: float\n",
    "    in_stock: Optional[bool] = True\n",
    "    category: Category  # Nested model\n",
    "\n",
    "# Creating a product with a nested category\n",
    "item = Product(\n",
    "    name=\"Chocolate\",\n",
    "    price=2.99,\n",
    "    category=Category(id=1, name=\"Snacks\")\n",
    ")\n",
    "\n",
    "print(item)\n"
   ]
  },
  {
   "cell_type": "code",
   "execution_count": 21,
   "id": "4326559e",
   "metadata": {},
   "outputs": [],
   "source": [
    "from pydantic import BaseModel, Field\n",
    "\n",
    "class Product(BaseModel):\n",
    "    name: str = Field(..., min_length=2, max_length=50, description=\"Product name\")\n",
    "    price: float = Field(..., gt=0, description=\"Must be greater than 0\")\n",
    "    stock: int = Field(default=0, ge=0, description=\"Non-negative integer\")\n"
   ]
  },
  {
   "cell_type": "code",
   "execution_count": 22,
   "id": "ac127b97",
   "metadata": {},
   "outputs": [
    {
     "name": "stdout",
     "output_type": "stream",
     "text": [
      "name='Apple' price=1.25 stock=0\n"
     ]
    }
   ],
   "source": [
    "product = Product(name=\"Apple\", price=1.25)\n",
    "print(product)\n"
   ]
  },
  {
   "cell_type": "code",
   "execution_count": 23,
   "id": "637c639b",
   "metadata": {},
   "outputs": [
    {
     "data": {
      "text/plain": [
       "{'properties': {'name': {'description': 'Product name',\n",
       "   'maxLength': 50,\n",
       "   'minLength': 2,\n",
       "   'title': 'Name',\n",
       "   'type': 'string'},\n",
       "  'price': {'description': 'Must be greater than 0',\n",
       "   'exclusiveMinimum': 0,\n",
       "   'title': 'Price',\n",
       "   'type': 'number'},\n",
       "  'stock': {'default': 0,\n",
       "   'description': 'Non-negative integer',\n",
       "   'minimum': 0,\n",
       "   'title': 'Stock',\n",
       "   'type': 'integer'}},\n",
       " 'required': ['name', 'price'],\n",
       " 'title': 'Product',\n",
       " 'type': 'object'}"
      ]
     },
     "execution_count": 23,
     "metadata": {},
     "output_type": "execute_result"
    }
   ],
   "source": [
    "product.model_json_schema()"
   ]
  },
  {
   "cell_type": "code",
   "execution_count": 24,
   "id": "e17df430",
   "metadata": {},
   "outputs": [
    {
     "ename": "ValidationError",
     "evalue": "1 validation error for User\nage\n  Value error, Age must be positive [type=value_error, input_value=-25, input_type=int]\n    For further information visit https://errors.pydantic.dev/2.11/v/value_error",
     "output_type": "error",
     "traceback": [
      "\u001b[31m---------------------------------------------------------------------------\u001b[39m",
      "\u001b[31mValidationError\u001b[39m                           Traceback (most recent call last)",
      "\u001b[36mCell\u001b[39m\u001b[36m \u001b[39m\u001b[32mIn[24]\u001b[39m\u001b[32m, line 11\u001b[39m\n\u001b[32m      9\u001b[39m             \u001b[38;5;28;01mraise\u001b[39;00m \u001b[38;5;167;01mValueError\u001b[39;00m(\u001b[33m'\u001b[39m\u001b[33mAge must be positive\u001b[39m\u001b[33m'\u001b[39m)\n\u001b[32m     10\u001b[39m         \u001b[38;5;28;01mreturn\u001b[39;00m v\n\u001b[32m---> \u001b[39m\u001b[32m11\u001b[39m user = \u001b[43mUser\u001b[49m\u001b[43m(\u001b[49m\u001b[43mage\u001b[49m\u001b[43m=\u001b[49m\u001b[43m-\u001b[49m\u001b[32;43m25\u001b[39;49m\u001b[43m)\u001b[49m\n\u001b[32m     12\u001b[39m \u001b[38;5;28mprint\u001b[39m(user)\n",
      "\u001b[36mFile \u001b[39m\u001b[32md:\\PROJECT_PRACTISE_DIRS\\AGENTICAI\\py_ve_3.11.4\\Lib\\site-packages\\pydantic\\main.py:253\u001b[39m, in \u001b[36mBaseModel.__init__\u001b[39m\u001b[34m(self, **data)\u001b[39m\n\u001b[32m    251\u001b[39m \u001b[38;5;66;03m# `__tracebackhide__` tells pytest and some other tools to omit this function from tracebacks\u001b[39;00m\n\u001b[32m    252\u001b[39m __tracebackhide__ = \u001b[38;5;28;01mTrue\u001b[39;00m\n\u001b[32m--> \u001b[39m\u001b[32m253\u001b[39m validated_self = \u001b[38;5;28;43mself\u001b[39;49m\u001b[43m.\u001b[49m\u001b[43m__pydantic_validator__\u001b[49m\u001b[43m.\u001b[49m\u001b[43mvalidate_python\u001b[49m\u001b[43m(\u001b[49m\u001b[43mdata\u001b[49m\u001b[43m,\u001b[49m\u001b[43m \u001b[49m\u001b[43mself_instance\u001b[49m\u001b[43m=\u001b[49m\u001b[38;5;28;43mself\u001b[39;49m\u001b[43m)\u001b[49m\n\u001b[32m    254\u001b[39m \u001b[38;5;28;01mif\u001b[39;00m \u001b[38;5;28mself\u001b[39m \u001b[38;5;129;01mis\u001b[39;00m \u001b[38;5;129;01mnot\u001b[39;00m validated_self:\n\u001b[32m    255\u001b[39m     warnings.warn(\n\u001b[32m    256\u001b[39m         \u001b[33m'\u001b[39m\u001b[33mA custom validator is returning a value other than `self`.\u001b[39m\u001b[38;5;130;01m\\n\u001b[39;00m\u001b[33m'\u001b[39m\n\u001b[32m    257\u001b[39m         \u001b[33m\"\u001b[39m\u001b[33mReturning anything other than `self` from a top level model validator isn\u001b[39m\u001b[33m'\u001b[39m\u001b[33mt supported when validating via `__init__`.\u001b[39m\u001b[38;5;130;01m\\n\u001b[39;00m\u001b[33m\"\u001b[39m\n\u001b[32m    258\u001b[39m         \u001b[33m'\u001b[39m\u001b[33mSee the `model_validator` docs (https://docs.pydantic.dev/latest/concepts/validators/#model-validators) for more details.\u001b[39m\u001b[33m'\u001b[39m,\n\u001b[32m    259\u001b[39m         stacklevel=\u001b[32m2\u001b[39m,\n\u001b[32m    260\u001b[39m     )\n",
      "\u001b[31mValidationError\u001b[39m: 1 validation error for User\nage\n  Value error, Age must be positive [type=value_error, input_value=-25, input_type=int]\n    For further information visit https://errors.pydantic.dev/2.11/v/value_error"
     ]
    }
   ],
   "source": [
    "from pydantic import BaseModel, field_validator\n",
    "\n",
    "class User(BaseModel):\n",
    "    age: int\n",
    "\n",
    "    @field_validator('age')\n",
    "    def age_must_be_positive(cls, v):\n",
    "        if v <= 0:\n",
    "            raise ValueError('Age must be positive')\n",
    "        return v\n",
    "user = User(age=-25)\n",
    "print(user)\n"
   ]
  },
  {
   "cell_type": "code",
   "execution_count": 25,
   "id": "03338953",
   "metadata": {},
   "outputs": [
    {
     "ename": "ValidationError",
     "evalue": "1 validation error for User\nage\n  Value error, Age must be positive [type=value_error, input_value=-25, input_type=int]\n    For further information visit https://errors.pydantic.dev/2.11/v/value_error",
     "output_type": "error",
     "traceback": [
      "\u001b[31m---------------------------------------------------------------------------\u001b[39m",
      "\u001b[31mValidationError\u001b[39m                           Traceback (most recent call last)",
      "\u001b[36mCell\u001b[39m\u001b[36m \u001b[39m\u001b[32mIn[25]\u001b[39m\u001b[32m, line 1\u001b[39m\n\u001b[32m----> \u001b[39m\u001b[32m1\u001b[39m user = \u001b[43mUser\u001b[49m\u001b[43m(\u001b[49m\u001b[43mage\u001b[49m\u001b[43m=\u001b[49m\u001b[43m-\u001b[49m\u001b[32;43m25\u001b[39;49m\u001b[43m)\u001b[49m\n\u001b[32m      2\u001b[39m \u001b[38;5;28mprint\u001b[39m(user)\n",
      "\u001b[36mFile \u001b[39m\u001b[32md:\\PROJECT_PRACTISE_DIRS\\AGENTICAI\\py_ve_3.11.4\\Lib\\site-packages\\pydantic\\main.py:253\u001b[39m, in \u001b[36mBaseModel.__init__\u001b[39m\u001b[34m(self, **data)\u001b[39m\n\u001b[32m    251\u001b[39m \u001b[38;5;66;03m# `__tracebackhide__` tells pytest and some other tools to omit this function from tracebacks\u001b[39;00m\n\u001b[32m    252\u001b[39m __tracebackhide__ = \u001b[38;5;28;01mTrue\u001b[39;00m\n\u001b[32m--> \u001b[39m\u001b[32m253\u001b[39m validated_self = \u001b[38;5;28;43mself\u001b[39;49m\u001b[43m.\u001b[49m\u001b[43m__pydantic_validator__\u001b[49m\u001b[43m.\u001b[49m\u001b[43mvalidate_python\u001b[49m\u001b[43m(\u001b[49m\u001b[43mdata\u001b[49m\u001b[43m,\u001b[49m\u001b[43m \u001b[49m\u001b[43mself_instance\u001b[49m\u001b[43m=\u001b[49m\u001b[38;5;28;43mself\u001b[39;49m\u001b[43m)\u001b[49m\n\u001b[32m    254\u001b[39m \u001b[38;5;28;01mif\u001b[39;00m \u001b[38;5;28mself\u001b[39m \u001b[38;5;129;01mis\u001b[39;00m \u001b[38;5;129;01mnot\u001b[39;00m validated_self:\n\u001b[32m    255\u001b[39m     warnings.warn(\n\u001b[32m    256\u001b[39m         \u001b[33m'\u001b[39m\u001b[33mA custom validator is returning a value other than `self`.\u001b[39m\u001b[38;5;130;01m\\n\u001b[39;00m\u001b[33m'\u001b[39m\n\u001b[32m    257\u001b[39m         \u001b[33m\"\u001b[39m\u001b[33mReturning anything other than `self` from a top level model validator isn\u001b[39m\u001b[33m'\u001b[39m\u001b[33mt supported when validating via `__init__`.\u001b[39m\u001b[38;5;130;01m\\n\u001b[39;00m\u001b[33m\"\u001b[39m\n\u001b[32m    258\u001b[39m         \u001b[33m'\u001b[39m\u001b[33mSee the `model_validator` docs (https://docs.pydantic.dev/latest/concepts/validators/#model-validators) for more details.\u001b[39m\u001b[33m'\u001b[39m,\n\u001b[32m    259\u001b[39m         stacklevel=\u001b[32m2\u001b[39m,\n\u001b[32m    260\u001b[39m     )\n",
      "\u001b[31mValidationError\u001b[39m: 1 validation error for User\nage\n  Value error, Age must be positive [type=value_error, input_value=-25, input_type=int]\n    For further information visit https://errors.pydantic.dev/2.11/v/value_error"
     ]
    }
   ],
   "source": [
    "user = User(age=-25)\n",
    "print(user)"
   ]
  },
  {
   "cell_type": "code",
   "execution_count": 26,
   "id": "6d747cba",
   "metadata": {},
   "outputs": [
    {
     "name": "stdout",
     "output_type": "stream",
     "text": [
      "Valid booking: start_date=datetime.date(2025, 5, 1) end_date=datetime.date(2025, 5, 10)\n",
      "Validation Error:\n",
      " 1 validation error for Booking\n",
      "  Value error, End date must be after start date [type=value_error, input_value={'start_date': '2025-05-1...end_date': '2025-05-01'}, input_type=dict]\n",
      "    For further information visit https://errors.pydantic.dev/2.11/v/value_error\n"
     ]
    }
   ],
   "source": [
    "from pydantic import BaseModel, model_validator\n",
    "from datetime import date\n",
    "\n",
    "class Booking(BaseModel):\n",
    "    start_date: date\n",
    "    end_date: date\n",
    "\n",
    "    @model_validator(mode='after')\n",
    "    def check_dates(self):\n",
    "        if self.end_date < self.start_date:\n",
    "            raise ValueError('End date must be after start date')\n",
    "        return self\n",
    "\n",
    "\n",
    "# -----------------------\n",
    "# Valid Input\n",
    "# -----------------------\n",
    "try:\n",
    "    booking = Booking(start_date='2025-05-01', end_date='2025-05-10')\n",
    "    print(\"Valid booking:\", booking)\n",
    "except ValidationError as e:\n",
    "    print(\"Validation Error:\\n\", e)\n",
    "\n",
    "# -----------------------\n",
    "# Invalid Input\n",
    "# -----------------------\n",
    "try:\n",
    "    booking = Booking(start_date='2025-05-10', end_date='2025-05-01')\n",
    "    print(\"Booking created:\", booking)\n",
    "except ValidationError as e:\n",
    "    print(\"Validation Error:\\n\", e)\n"
   ]
  },
  {
   "cell_type": "code",
   "execution_count": 27,
   "id": "dbce45a2",
   "metadata": {},
   "outputs": [
    {
     "name": "stdout",
     "output_type": "stream",
     "text": [
      "name='Launch' start=datetime.date(2025, 6, 1) end=datetime.date(2025, 6, 3)\n",
      "\n",
      "Validation Error: 1 validation error for Event\n",
      "  Value error, Start date must be before end date [type=value_error, input_value={'name': 'Bug', 'start': ...tetime.date(2025, 6, 4)}, input_type=dict]\n",
      "    For further information visit https://errors.pydantic.dev/2.11/v/value_error\n"
     ]
    }
   ],
   "source": [
    "from pydantic import BaseModel, model_validator\n",
    "from datetime import date, datetime\n",
    "\n",
    "class Event(BaseModel):\n",
    "    name: str\n",
    "    start: date\n",
    "    end: date\n",
    "\n",
    "    # Before: convert datetime to date if needed\n",
    "    @model_validator(mode='before')\n",
    "    @classmethod\n",
    "    def convert_dates(cls, data):\n",
    "        if isinstance(data.get(\"start\"), datetime):\n",
    "            data[\"start\"] = data[\"start\"].date()\n",
    "        if isinstance(data.get(\"end\"), datetime):\n",
    "            data[\"end\"] = data[\"end\"].date()\n",
    "        return data\n",
    "\n",
    "    # After: ensure start < end\n",
    "    @model_validator(mode='after')\n",
    "    def check_date_order(self):\n",
    "        if self.start >= self.end:\n",
    "            raise ValueError(\"Start date must be before end date\")\n",
    "        return self\n",
    "\n",
    "# ✅ Valid input with datetime objects\n",
    "event = Event(name=\"Launch\", start=datetime(2025, 6, 1, 9), end=datetime(2025, 6, 3, 17))\n",
    "print(event)\n",
    "\n",
    "# ❌ Invalid: start date after end date\n",
    "try:\n",
    "    bad_event = Event(name=\"Bug\", start=date(2025, 6, 5), end=date(2025, 6, 4))\n",
    "except Exception as e:\n",
    "    print(\"\\nValidation Error:\", e)\n"
   ]
  },
  {
   "cell_type": "code",
   "execution_count": 28,
   "id": "89362004",
   "metadata": {},
   "outputs": [
    {
     "ename": "ValidationError",
     "evalue": "1 validation error for Product\nprice\n  Input should be a valid number [type=float_type, input_value='2.99', input_type=str]\n    For further information visit https://errors.pydantic.dev/2.11/v/float_type",
     "output_type": "error",
     "traceback": [
      "\u001b[31m---------------------------------------------------------------------------\u001b[39m",
      "\u001b[31mValidationError\u001b[39m                           Traceback (most recent call last)",
      "\u001b[36mCell\u001b[39m\u001b[36m \u001b[39m\u001b[32mIn[28]\u001b[39m\u001b[32m, line 9\u001b[39m\n\u001b[32m      6\u001b[39m     name: \u001b[38;5;28mstr\u001b[39m\n\u001b[32m      7\u001b[39m     price: \u001b[38;5;28mfloat\u001b[39m = Field(strict=\u001b[38;5;28;01mTrue\u001b[39;00m, description=\u001b[33m\"\u001b[39m\u001b[33mPrice of the product\u001b[39m\u001b[33m\"\u001b[39m)\n\u001b[32m----> \u001b[39m\u001b[32m9\u001b[39m item = \u001b[43mProduct\u001b[49m\u001b[43m(\u001b[49m\u001b[43mname\u001b[49m\u001b[43m=\u001b[49m\u001b[33;43m\"\u001b[39;49m\u001b[33;43mChocolate\u001b[39;49m\u001b[33;43m\"\u001b[39;49m\u001b[43m,\u001b[49m\u001b[43m \u001b[49m\u001b[43mprice\u001b[49m\u001b[43m=\u001b[49m\u001b[33;43m'\u001b[39;49m\u001b[33;43m2.99\u001b[39;49m\u001b[33;43m'\u001b[39;49m\u001b[43m,\u001b[49m\u001b[43mstock_list\u001b[49m\u001b[43m=\u001b[49m\u001b[43m[\u001b[49m\u001b[33;43m\"\u001b[39;49m\u001b[33;43mitem1\u001b[39;49m\u001b[33;43m\"\u001b[39;49m\u001b[43m,\u001b[49m\u001b[43m \u001b[49m\u001b[33;43m\"\u001b[39;49m\u001b[33;43mitem2\u001b[39;49m\u001b[33;43m\"\u001b[39;49m\u001b[43m]\u001b[49m\u001b[43m)\u001b[49m\n\u001b[32m     10\u001b[39m item1 = Product(name=\u001b[33m\"\u001b[39m\u001b[33mChocolate\u001b[39m\u001b[33m\"\u001b[39m, price=\u001b[32m2.99\u001b[39m,stock_list=[\u001b[33m\"\u001b[39m\u001b[33mitem1\u001b[39m\u001b[33m\"\u001b[39m, \u001b[33m\"\u001b[39m\u001b[33mitem2\u001b[39m\u001b[33m\"\u001b[39m])\n\u001b[32m     11\u001b[39m \u001b[38;5;28mprint\u001b[39m(item)\n",
      "\u001b[36mFile \u001b[39m\u001b[32md:\\PROJECT_PRACTISE_DIRS\\AGENTICAI\\py_ve_3.11.4\\Lib\\site-packages\\pydantic\\main.py:253\u001b[39m, in \u001b[36mBaseModel.__init__\u001b[39m\u001b[34m(self, **data)\u001b[39m\n\u001b[32m    251\u001b[39m \u001b[38;5;66;03m# `__tracebackhide__` tells pytest and some other tools to omit this function from tracebacks\u001b[39;00m\n\u001b[32m    252\u001b[39m __tracebackhide__ = \u001b[38;5;28;01mTrue\u001b[39;00m\n\u001b[32m--> \u001b[39m\u001b[32m253\u001b[39m validated_self = \u001b[38;5;28;43mself\u001b[39;49m\u001b[43m.\u001b[49m\u001b[43m__pydantic_validator__\u001b[49m\u001b[43m.\u001b[49m\u001b[43mvalidate_python\u001b[49m\u001b[43m(\u001b[49m\u001b[43mdata\u001b[49m\u001b[43m,\u001b[49m\u001b[43m \u001b[49m\u001b[43mself_instance\u001b[49m\u001b[43m=\u001b[49m\u001b[38;5;28;43mself\u001b[39;49m\u001b[43m)\u001b[49m\n\u001b[32m    254\u001b[39m \u001b[38;5;28;01mif\u001b[39;00m \u001b[38;5;28mself\u001b[39m \u001b[38;5;129;01mis\u001b[39;00m \u001b[38;5;129;01mnot\u001b[39;00m validated_self:\n\u001b[32m    255\u001b[39m     warnings.warn(\n\u001b[32m    256\u001b[39m         \u001b[33m'\u001b[39m\u001b[33mA custom validator is returning a value other than `self`.\u001b[39m\u001b[38;5;130;01m\\n\u001b[39;00m\u001b[33m'\u001b[39m\n\u001b[32m    257\u001b[39m         \u001b[33m\"\u001b[39m\u001b[33mReturning anything other than `self` from a top level model validator isn\u001b[39m\u001b[33m'\u001b[39m\u001b[33mt supported when validating via `__init__`.\u001b[39m\u001b[38;5;130;01m\\n\u001b[39;00m\u001b[33m\"\u001b[39m\n\u001b[32m    258\u001b[39m         \u001b[33m'\u001b[39m\u001b[33mSee the `model_validator` docs (https://docs.pydantic.dev/latest/concepts/validators/#model-validators) for more details.\u001b[39m\u001b[33m'\u001b[39m,\n\u001b[32m    259\u001b[39m         stacklevel=\u001b[32m2\u001b[39m,\n\u001b[32m    260\u001b[39m     )\n",
      "\u001b[31mValidationError\u001b[39m: 1 validation error for Product\nprice\n  Input should be a valid number [type=float_type, input_value='2.99', input_type=str]\n    For further information visit https://errors.pydantic.dev/2.11/v/float_type"
     ]
    }
   ],
   "source": [
    "from pydantic import BaseModel, ValidationError\n",
    "from typing import Optional,List\n",
    "from pydantic import BaseModel, Field\n",
    "\n",
    "class Product(BaseModel):\n",
    "    name: str\n",
    "    price: float = Field(strict=True, description=\"Price of the product\")\n",
    "\n",
    "item = Product(name=\"Chocolate\", price='2.99',stock_list=[\"item1\", \"item2\"])\n",
    "item1 = Product(name=\"Chocolate\", price=2.99,stock_list=[\"item1\", \"item2\"])\n",
    "print(item)\n",
    "print(item1)"
   ]
  },
  {
   "cell_type": "code",
   "execution_count": 29,
   "id": "3693db10",
   "metadata": {},
   "outputs": [
    {
     "name": "stdout",
     "output_type": "stream",
     "text": [
      "positive=1 non_negative=0 negative=-1 non_positive=0 even=2 love_for_pydantic=inf\n"
     ]
    }
   ],
   "source": [
    "\n",
    "from pydantic import BaseModel, Field\n",
    "\n",
    "class Foo(BaseModel):\n",
    "    positive: int = Field(gt=0)\n",
    "    non_negative: int = Field(ge=0)\n",
    "    negative: int = Field(lt=0)\n",
    "    non_positive: int = Field(le=0)\n",
    "    even: int = Field(multiple_of=2)\n",
    "    love_for_pydantic: float = Field(allow_inf_nan=True)\n",
    "\n",
    "foo = Foo(\n",
    "    positive=1,\n",
    "    non_negative=0,\n",
    "    negative=-1,\n",
    "    non_positive=0,\n",
    "    even=2,\n",
    "    love_for_pydantic=float('inf'),\n",
    ")\n",
    "print(foo)"
   ]
  },
  {
   "cell_type": "code",
   "execution_count": 30,
   "id": "c1753700",
   "metadata": {},
   "outputs": [
    {
     "name": "stdout",
     "output_type": "stream",
     "text": [
      "short='foo' long='foobarbaz' regex='123'\n"
     ]
    }
   ],
   "source": [
    "from pydantic import BaseModel, Field\n",
    "\n",
    "\n",
    "class Foo(BaseModel):\n",
    "    short: str = Field(min_length=3)\n",
    "    long: str = Field(max_length=10)\n",
    "    regex: str = Field(pattern=r'^\\d*$')  \n",
    "\n",
    "\n",
    "foo = Foo(short='foo', long='foobarbaz', regex='123')\n",
    "print(foo)"
   ]
  },
  {
   "cell_type": "code",
   "execution_count": 31,
   "id": "59ebadb3",
   "metadata": {},
   "outputs": [
    {
     "name": "stdout",
     "output_type": "stream",
     "text": [
      "precise=Decimal('123.45')\n"
     ]
    }
   ],
   "source": [
    "from decimal import Decimal\n",
    "\n",
    "from pydantic import BaseModel, Field\n",
    "\n",
    "\n",
    "class Foo(BaseModel):\n",
    "    precise: Decimal = Field(max_digits=5, decimal_places=2)\n",
    "\n",
    "\n",
    "foo = Foo(precise=Decimal('123.45'))\n",
    "print(foo)\n",
    "#> precise=Decimal('123.45')"
   ]
  },
  {
   "cell_type": "code",
   "execution_count": 32,
   "id": "b72e9c92",
   "metadata": {},
   "outputs": [
    {
     "name": "stdout",
     "output_type": "stream",
     "text": [
      "name='Apple' price=1.25 stock=0\n"
     ]
    }
   ],
   "source": [
    "from pydantic import BaseModel, Field\n",
    "\n",
    "class Product(BaseModel):\n",
    "    name: str = Field(..., min_length=2, max_length=50, description=\"Product name\")\n",
    "    price: float = Field(..., gt=0, description=\"Must be greater than 0\")\n",
    "    stock: int = Field(default=0, ge=0, description=\"Non-negative integer\")\n",
    "\n",
    "product = Product(name=\"Apple\", price=1.25)\n",
    "print(product)"
   ]
  },
  {
   "cell_type": "code",
   "execution_count": 34,
   "id": "8469eaae",
   "metadata": {},
   "outputs": [
    {
     "name": "stdout",
     "output_type": "stream",
     "text": [
      "age=25\n"
     ]
    },
    {
     "ename": "ValidationError",
     "evalue": "1 validation error for User\nage\n  Value error, Age must be positive [type=value_error, input_value=-25, input_type=int]\n    For further information visit https://errors.pydantic.dev/2.11/v/value_error",
     "output_type": "error",
     "traceback": [
      "\u001b[31m---------------------------------------------------------------------------\u001b[39m",
      "\u001b[31mValidationError\u001b[39m                           Traceback (most recent call last)",
      "\u001b[36mCell\u001b[39m\u001b[36m \u001b[39m\u001b[32mIn[34]\u001b[39m\u001b[32m, line 13\u001b[39m\n\u001b[32m     11\u001b[39m user_0 = User(age=\u001b[32m25\u001b[39m)\n\u001b[32m     12\u001b[39m \u001b[38;5;28mprint\u001b[39m(user_0)\n\u001b[32m---> \u001b[39m\u001b[32m13\u001b[39m user_1 = \u001b[43mUser\u001b[49m\u001b[43m(\u001b[49m\u001b[43mage\u001b[49m\u001b[43m=\u001b[49m\u001b[43m-\u001b[49m\u001b[32;43m25\u001b[39;49m\u001b[43m)\u001b[49m\n\u001b[32m     14\u001b[39m \u001b[38;5;28mprint\u001b[39m(user_1)\n",
      "\u001b[36mFile \u001b[39m\u001b[32md:\\PROJECT_PRACTISE_DIRS\\AGENTICAI\\py_ve_3.11.4\\Lib\\site-packages\\pydantic\\main.py:253\u001b[39m, in \u001b[36mBaseModel.__init__\u001b[39m\u001b[34m(self, **data)\u001b[39m\n\u001b[32m    251\u001b[39m \u001b[38;5;66;03m# `__tracebackhide__` tells pytest and some other tools to omit this function from tracebacks\u001b[39;00m\n\u001b[32m    252\u001b[39m __tracebackhide__ = \u001b[38;5;28;01mTrue\u001b[39;00m\n\u001b[32m--> \u001b[39m\u001b[32m253\u001b[39m validated_self = \u001b[38;5;28;43mself\u001b[39;49m\u001b[43m.\u001b[49m\u001b[43m__pydantic_validator__\u001b[49m\u001b[43m.\u001b[49m\u001b[43mvalidate_python\u001b[49m\u001b[43m(\u001b[49m\u001b[43mdata\u001b[49m\u001b[43m,\u001b[49m\u001b[43m \u001b[49m\u001b[43mself_instance\u001b[49m\u001b[43m=\u001b[49m\u001b[38;5;28;43mself\u001b[39;49m\u001b[43m)\u001b[49m\n\u001b[32m    254\u001b[39m \u001b[38;5;28;01mif\u001b[39;00m \u001b[38;5;28mself\u001b[39m \u001b[38;5;129;01mis\u001b[39;00m \u001b[38;5;129;01mnot\u001b[39;00m validated_self:\n\u001b[32m    255\u001b[39m     warnings.warn(\n\u001b[32m    256\u001b[39m         \u001b[33m'\u001b[39m\u001b[33mA custom validator is returning a value other than `self`.\u001b[39m\u001b[38;5;130;01m\\n\u001b[39;00m\u001b[33m'\u001b[39m\n\u001b[32m    257\u001b[39m         \u001b[33m\"\u001b[39m\u001b[33mReturning anything other than `self` from a top level model validator isn\u001b[39m\u001b[33m'\u001b[39m\u001b[33mt supported when validating via `__init__`.\u001b[39m\u001b[38;5;130;01m\\n\u001b[39;00m\u001b[33m\"\u001b[39m\n\u001b[32m    258\u001b[39m         \u001b[33m'\u001b[39m\u001b[33mSee the `model_validator` docs (https://docs.pydantic.dev/latest/concepts/validators/#model-validators) for more details.\u001b[39m\u001b[33m'\u001b[39m,\n\u001b[32m    259\u001b[39m         stacklevel=\u001b[32m2\u001b[39m,\n\u001b[32m    260\u001b[39m     )\n",
      "\u001b[31mValidationError\u001b[39m: 1 validation error for User\nage\n  Value error, Age must be positive [type=value_error, input_value=-25, input_type=int]\n    For further information visit https://errors.pydantic.dev/2.11/v/value_error"
     ]
    }
   ],
   "source": [
    "from pydantic import BaseModel, field_validator\n",
    "\n",
    "class User(BaseModel):\n",
    "    age: int\n",
    "\n",
    "    @field_validator('age')\n",
    "    def age_must_be_positive(cls, v):\n",
    "        if v <= 0:\n",
    "            raise ValueError('Age must be positive')\n",
    "        return v\n",
    "user_0 = User(age=25)\n",
    "print(user_0)\n",
    "user_1 = User(age=-25)\n",
    "print(user_1)"
   ]
  },
  {
   "cell_type": "code",
   "execution_count": 42,
   "id": "f1105e7d",
   "metadata": {},
   "outputs": [
    {
     "ename": "ValidationError",
     "evalue": "1 validation error for Patient\n  Value error, For patients over 60, \"emergency_contact\" must be present in contact_details. [type=value_error, input_value={'name': 'John Doe', 'age...'home': '123-456-7890'}}, input_type=dict]\n    For further information visit https://errors.pydantic.dev/2.11/v/value_error",
     "output_type": "error",
     "traceback": [
      "\u001b[31m---------------------------------------------------------------------------\u001b[39m",
      "\u001b[31mValidationError\u001b[39m                           Traceback (most recent call last)",
      "\u001b[36mCell\u001b[39m\u001b[36m \u001b[39m\u001b[32mIn[42]\u001b[39m\u001b[32m, line 19\u001b[39m\n\u001b[32m     16\u001b[39m             \u001b[38;5;28;01mraise\u001b[39;00m \u001b[38;5;167;01mValueError\u001b[39;00m(\u001b[33m'\u001b[39m\u001b[33mFor patients over 60, \u001b[39m\u001b[33m\"\u001b[39m\u001b[33memergency_contact\u001b[39m\u001b[33m\"\u001b[39m\u001b[33m must be present in contact_details.\u001b[39m\u001b[33m'\u001b[39m)\n\u001b[32m     17\u001b[39m         \u001b[38;5;28;01mreturn\u001b[39;00m \u001b[38;5;28mself\u001b[39m\n\u001b[32m---> \u001b[39m\u001b[32m19\u001b[39m \u001b[43mPatient\u001b[49m\u001b[43m(\u001b[49m\n\u001b[32m     20\u001b[39m \u001b[43m    \u001b[49m\u001b[43mname\u001b[49m\u001b[43m=\u001b[49m\u001b[33;43m\"\u001b[39;49m\u001b[33;43mJohn Doe\u001b[39;49m\u001b[33;43m\"\u001b[39;49m\u001b[43m,\u001b[49m\n\u001b[32m     21\u001b[39m \u001b[43m    \u001b[49m\u001b[43mage\u001b[49m\u001b[43m=\u001b[49m\u001b[32;43m99\u001b[39;49m\u001b[43m,\u001b[49m\n\u001b[32m     22\u001b[39m \u001b[43m    \u001b[49m\u001b[43mweight\u001b[49m\u001b[43m=\u001b[49m\u001b[32;43m70.5\u001b[39;49m\u001b[43m,\u001b[49m\n\u001b[32m     23\u001b[39m \u001b[43m    \u001b[49m\u001b[43mmarried\u001b[49m\u001b[43m=\u001b[49m\u001b[38;5;28;43;01mTrue\u001b[39;49;00m\u001b[43m,\u001b[49m\n\u001b[32m     24\u001b[39m \u001b[43m    \u001b[49m\u001b[43mcontact_details\u001b[49m\u001b[43m=\u001b[49m\u001b[43m{\u001b[49m\n\u001b[32m     25\u001b[39m \u001b[43m        \u001b[49m\u001b[33;43m\"\u001b[39;49m\u001b[33;43mhome\u001b[39;49m\u001b[33;43m\"\u001b[39;49m\u001b[43m:\u001b[49m\u001b[43m \u001b[49m\u001b[33;43m\"\u001b[39;49m\u001b[33;43m123-456-7890\u001b[39;49m\u001b[33;43m\"\u001b[39;49m\u001b[43m,\u001b[49m\n\u001b[32m     26\u001b[39m \u001b[43m    \u001b[49m\u001b[43m}\u001b[49m\n\u001b[32m     27\u001b[39m \u001b[43m)\u001b[49m\n",
      "\u001b[36mFile \u001b[39m\u001b[32md:\\PROJECT_PRACTISE_DIRS\\AGENTICAI\\py_ve_3.11.4\\Lib\\site-packages\\pydantic\\main.py:253\u001b[39m, in \u001b[36mBaseModel.__init__\u001b[39m\u001b[34m(self, **data)\u001b[39m\n\u001b[32m    251\u001b[39m \u001b[38;5;66;03m# `__tracebackhide__` tells pytest and some other tools to omit this function from tracebacks\u001b[39;00m\n\u001b[32m    252\u001b[39m __tracebackhide__ = \u001b[38;5;28;01mTrue\u001b[39;00m\n\u001b[32m--> \u001b[39m\u001b[32m253\u001b[39m validated_self = \u001b[38;5;28;43mself\u001b[39;49m\u001b[43m.\u001b[49m\u001b[43m__pydantic_validator__\u001b[49m\u001b[43m.\u001b[49m\u001b[43mvalidate_python\u001b[49m\u001b[43m(\u001b[49m\u001b[43mdata\u001b[49m\u001b[43m,\u001b[49m\u001b[43m \u001b[49m\u001b[43mself_instance\u001b[49m\u001b[43m=\u001b[49m\u001b[38;5;28;43mself\u001b[39;49m\u001b[43m)\u001b[49m\n\u001b[32m    254\u001b[39m \u001b[38;5;28;01mif\u001b[39;00m \u001b[38;5;28mself\u001b[39m \u001b[38;5;129;01mis\u001b[39;00m \u001b[38;5;129;01mnot\u001b[39;00m validated_self:\n\u001b[32m    255\u001b[39m     warnings.warn(\n\u001b[32m    256\u001b[39m         \u001b[33m'\u001b[39m\u001b[33mA custom validator is returning a value other than `self`.\u001b[39m\u001b[38;5;130;01m\\n\u001b[39;00m\u001b[33m'\u001b[39m\n\u001b[32m    257\u001b[39m         \u001b[33m\"\u001b[39m\u001b[33mReturning anything other than `self` from a top level model validator isn\u001b[39m\u001b[33m'\u001b[39m\u001b[33mt supported when validating via `__init__`.\u001b[39m\u001b[38;5;130;01m\\n\u001b[39;00m\u001b[33m\"\u001b[39m\n\u001b[32m    258\u001b[39m         \u001b[33m'\u001b[39m\u001b[33mSee the `model_validator` docs (https://docs.pydantic.dev/latest/concepts/validators/#model-validators) for more details.\u001b[39m\u001b[33m'\u001b[39m,\n\u001b[32m    259\u001b[39m         stacklevel=\u001b[32m2\u001b[39m,\n\u001b[32m    260\u001b[39m     )\n",
      "\u001b[31mValidationError\u001b[39m: 1 validation error for Patient\n  Value error, For patients over 60, \"emergency_contact\" must be present in contact_details. [type=value_error, input_value={'name': 'John Doe', 'age...'home': '123-456-7890'}}, input_type=dict]\n    For further information visit https://errors.pydantic.dev/2.11/v/value_error"
     ]
    }
   ],
   "source": [
    "from pydantic import BaseModel, Field, model_validator\n",
    "from typing import Dict\n",
    "\n",
    "class Patient(BaseModel):\n",
    "    name: str\n",
    "    age: int = Field(..., gt=0)\n",
    "    weight: float = Field(..., gt=0)\n",
    "    married: bool\n",
    "    contact_details: Dict[str, str]  # Includes keys like \"emergency_contact\", \"home\", etc.\n",
    "\n",
    "    @model_validator(mode='after')\n",
    "    def validate_emergency_contact(self,):\n",
    "        age = self.age\n",
    "        contact_details = self.contact_details\n",
    "        if age > 60 and \"emergency_contact\" not in contact_details:\n",
    "            raise ValueError('For patients over 60, \"emergency_contact\" must be present in contact_details.')\n",
    "        return self\n",
    "\n",
    "Patient(\n",
    "    name=\"John Doe\",\n",
    "    age=99,\n",
    "    weight=70.5,\n",
    "    married=True,\n",
    "    contact_details={\n",
    "        \"home\": \"123-456-7890\",\n",
    "    }\n",
    ")"
   ]
  },
  {
   "cell_type": "code",
   "execution_count": 43,
   "id": "49e3f82f",
   "metadata": {},
   "outputs": [
    {
     "name": "stdout",
     "output_type": "stream",
     "text": [
      "31.5\n"
     ]
    }
   ],
   "source": [
    "from pydantic import BaseModel, computed_field\n",
    "\n",
    "class Product(BaseModel):\n",
    "    name: str\n",
    "    price: float\n",
    "    quantity: int\n",
    "\n",
    "    @computed_field\n",
    "    @property\n",
    "    def total_price(self) -> float:\n",
    "        return self.price * self.quantity\n",
    "\n",
    "# Usage\n",
    "p = Product(name=\"Apple\", price=10.5, quantity=3)\n",
    "print(p.total_price)  # 31.5\n"
   ]
  },
  {
   "cell_type": "code",
   "execution_count": null,
   "id": "f4197ae8",
   "metadata": {},
   "outputs": [],
   "source": []
  }
 ],
 "metadata": {
  "kernelspec": {
   "display_name": "py_ve_3.11.4",
   "language": "python",
   "name": "python3"
  },
  "language_info": {
   "codemirror_mode": {
    "name": "ipython",
    "version": 3
   },
   "file_extension": ".py",
   "mimetype": "text/x-python",
   "name": "python",
   "nbconvert_exporter": "python",
   "pygments_lexer": "ipython3",
   "version": "3.11.4"
  }
 },
 "nbformat": 4,
 "nbformat_minor": 5
}
